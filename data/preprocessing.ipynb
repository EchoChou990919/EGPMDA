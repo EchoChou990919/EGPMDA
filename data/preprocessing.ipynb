{
 "cells": [
  {
   "cell_type": "code",
   "execution_count": 1,
   "metadata": {},
   "outputs": [],
   "source": [
    "import pandas as pd\n",
    "import numpy as np\n",
    "import networkx as nx\n",
    "import matplotlib.pyplot as plt\n",
    "import h5py\n",
    "import copy\n",
    "import tqdm\n",
    "from sklearn.model_selection import KFold\n",
    "import random"
   ]
  },
  {
   "attachments": {},
   "cell_type": "markdown",
   "metadata": {
    "jp-MarkdownHeadingCollapsed": true,
    "tags": []
   },
   "source": [
    "# MiRNA Sequence"
   ]
  },
  {
   "attachments": {},
   "cell_type": "markdown",
   "metadata": {
    "jp-MarkdownHeadingCollapsed": true,
    "tags": []
   },
   "source": [
    "## K-mer\n",
    "\n",
    "Not used in our method ultimately..."
   ]
  },
  {
   "cell_type": "code",
   "execution_count": 51,
   "metadata": {},
   "outputs": [
    {
     "data": {
      "text/html": [
       "<div>\n",
       "<style scoped>\n",
       "    .dataframe tbody tr th:only-of-type {\n",
       "        vertical-align: middle;\n",
       "    }\n",
       "\n",
       "    .dataframe tbody tr th {\n",
       "        vertical-align: top;\n",
       "    }\n",
       "\n",
       "    .dataframe thead th {\n",
       "        text-align: right;\n",
       "    }\n",
       "</style>\n",
       "<table border=\"1\" class=\"dataframe\">\n",
       "  <thead>\n",
       "    <tr style=\"text-align: right;\">\n",
       "      <th></th>\n",
       "      <th>Accession</th>\n",
       "      <th>ID</th>\n",
       "      <th>Sequence</th>\n",
       "      <th>Mature1_Acc</th>\n",
       "      <th>Mature1_ID</th>\n",
       "      <th>Mature1_Seq</th>\n",
       "      <th>Mature2_Acc</th>\n",
       "      <th>Mature2_ID</th>\n",
       "      <th>Mature2_Seq</th>\n",
       "    </tr>\n",
       "  </thead>\n",
       "  <tbody>\n",
       "    <tr>\n",
       "      <th>0</th>\n",
       "      <td>MI0000060</td>\n",
       "      <td>hsa-let-7a-1</td>\n",
       "      <td>UGGGAUGAGGUAGUAGGUUGUAUAGUUUUAGGGUCACACCCACCAC...</td>\n",
       "      <td>MIMAT0000062</td>\n",
       "      <td>hsa-let-7a-5p</td>\n",
       "      <td>UGAGGUAGUAGGUUGUAUAGUU</td>\n",
       "      <td>MIMAT0004481</td>\n",
       "      <td>hsa-let-7a-3p</td>\n",
       "      <td>CUAUACAAUCUACUGUCUUUC</td>\n",
       "    </tr>\n",
       "    <tr>\n",
       "      <th>1</th>\n",
       "      <td>MI0000061</td>\n",
       "      <td>hsa-let-7a-2</td>\n",
       "      <td>AGGUUGAGGUAGUAGGUUGUAUAGUUUAGAAUUACAUCAAGGGAGA...</td>\n",
       "      <td>MIMAT0000062</td>\n",
       "      <td>hsa-let-7a-5p</td>\n",
       "      <td>UGAGGUAGUAGGUUGUAUAGUU</td>\n",
       "      <td>MIMAT0010195</td>\n",
       "      <td>hsa-let-7a-2-3p</td>\n",
       "      <td>CUGUACAGCCUCCUAGCUUUCC</td>\n",
       "    </tr>\n",
       "    <tr>\n",
       "      <th>2</th>\n",
       "      <td>MI0000062</td>\n",
       "      <td>hsa-let-7a-3</td>\n",
       "      <td>GGGUGAGGUAGUAGGUUGUAUAGUUUGGGGCUCUGCCCUGCUAUGG...</td>\n",
       "      <td>MIMAT0000062</td>\n",
       "      <td>hsa-let-7a-5p</td>\n",
       "      <td>UGAGGUAGUAGGUUGUAUAGUU</td>\n",
       "      <td>MIMAT0004481</td>\n",
       "      <td>hsa-let-7a-3p</td>\n",
       "      <td>CUAUACAAUCUACUGUCUUUC</td>\n",
       "    </tr>\n",
       "  </tbody>\n",
       "</table>\n",
       "</div>"
      ],
      "text/plain": [
       "   Accession            ID                                           Sequence  \\\n",
       "0  MI0000060  hsa-let-7a-1  UGGGAUGAGGUAGUAGGUUGUAUAGUUUUAGGGUCACACCCACCAC...   \n",
       "1  MI0000061  hsa-let-7a-2  AGGUUGAGGUAGUAGGUUGUAUAGUUUAGAAUUACAUCAAGGGAGA...   \n",
       "2  MI0000062  hsa-let-7a-3  GGGUGAGGUAGUAGGUUGUAUAGUUUGGGGCUCUGCCCUGCUAUGG...   \n",
       "\n",
       "    Mature1_Acc     Mature1_ID             Mature1_Seq   Mature2_Acc  \\\n",
       "0  MIMAT0000062  hsa-let-7a-5p  UGAGGUAGUAGGUUGUAUAGUU  MIMAT0004481   \n",
       "1  MIMAT0000062  hsa-let-7a-5p  UGAGGUAGUAGGUUGUAUAGUU  MIMAT0010195   \n",
       "2  MIMAT0000062  hsa-let-7a-5p  UGAGGUAGUAGGUUGUAUAGUU  MIMAT0004481   \n",
       "\n",
       "        Mature2_ID             Mature2_Seq  \n",
       "0    hsa-let-7a-3p   CUAUACAAUCUACUGUCUUUC  \n",
       "1  hsa-let-7a-2-3p  CUGUACAGCCUCCUAGCUUUCC  \n",
       "2    hsa-let-7a-3p   CUAUACAAUCUACUGUCUUUC  "
      ]
     },
     "execution_count": 51,
     "metadata": {},
     "output_type": "execute_result"
    }
   ],
   "source": [
    "mirnas = pd.read_table('our_data/nodes/mirnas.tsv')\n",
    "mirnas.head(3)"
   ]
  },
  {
   "cell_type": "code",
   "execution_count": 52,
   "metadata": {},
   "outputs": [
    {
     "name": "stdout",
     "output_type": "stream",
     "text": [
      "180 27 28.0\n"
     ]
    }
   ],
   "source": [
    "print(mirnas['Sequence'].str.len().max(), mirnas['Mature1_Seq'].str.len().max(), mirnas['Mature2_Seq'].str.len().max())"
   ]
  },
  {
   "cell_type": "code",
   "execution_count": 53,
   "metadata": {},
   "outputs": [],
   "source": [
    "def get_kmer(seq, k, max_len):\n",
    "    seq = seq + 'N' * (max_len - len(seq))\n",
    "    sub_seqs = [seq[i: i + k] for i in range(len(seq) - k + 1)]\n",
    "    kmer_onehot_seqs = []\n",
    "    AUCG_map = {\n",
    "        'A': 0,\n",
    "        'U': 1,\n",
    "        'C': 2,\n",
    "        'G': 3\n",
    "    } # A, U, C, G -> 0, 1, 2, 3\n",
    "    for sub_seq in sub_seqs:\n",
    "        kmer_onehot_seq = np.zeros(pow(4, k) + 1)\n",
    "        if 'N' in sub_seq:\n",
    "            kmer_onehot_seq[-1] = 1\n",
    "        else:\n",
    "            num = 0\n",
    "            for i in range(k):\n",
    "                num = num + AUCG_map[sub_seq[k - 1 - i]] * pow(4, i)\n",
    "            kmer_onehot_seq[num] = 1\n",
    "        kmer_onehot_seqs.append(kmer_onehot_seq)\n",
    "    return np.array(kmer_onehot_seqs)"
   ]
  },
  {
   "cell_type": "code",
   "execution_count": 54,
   "metadata": {},
   "outputs": [
    {
     "data": {
      "text/plain": [
       "array([[0., 0., 0., 0., 0., 0., 0., 0., 0., 0., 0., 0., 0., 0., 0., 0.,\n",
       "        1.],\n",
       "       [0., 0., 0., 0., 0., 0., 0., 0., 0., 0., 0., 0., 0., 0., 0., 0.,\n",
       "        1.]])"
      ]
     },
     "execution_count": 54,
     "metadata": {},
     "output_type": "execute_result"
    }
   ],
   "source": [
    "get_kmer('', 2, 3)"
   ]
  },
  {
   "cell_type": "code",
   "execution_count": 55,
   "metadata": {},
   "outputs": [
    {
     "data": {
      "text/plain": [
       "array([[0., 1., 0., 0., 0., 0., 0., 0., 0., 0., 0., 0., 0., 0., 0., 0.,\n",
       "        0.],\n",
       "       [0., 0., 0., 0., 0., 1., 0., 0., 0., 0., 0., 0., 0., 0., 0., 0.,\n",
       "        0.],\n",
       "       [0., 0., 0., 0., 0., 0., 0., 1., 0., 0., 0., 0., 0., 0., 0., 0.,\n",
       "        0.],\n",
       "       [0., 0., 0., 0., 0., 0., 0., 0., 0., 0., 0., 0., 0., 0., 0., 1.,\n",
       "        0.],\n",
       "       [0., 0., 0., 0., 0., 0., 0., 0., 0., 0., 0., 0., 0., 0., 1., 0.,\n",
       "        0.],\n",
       "       [0., 0., 0., 0., 0., 0., 0., 0., 0., 0., 0., 0., 0., 0., 0., 0.,\n",
       "        1.],\n",
       "       [0., 0., 0., 0., 0., 0., 0., 0., 0., 0., 0., 0., 0., 0., 0., 0.,\n",
       "        1.]])"
      ]
     },
     "execution_count": 55,
     "metadata": {},
     "output_type": "execute_result"
    }
   ],
   "source": [
    "get_kmer('AUUGGC', 2, 8)"
   ]
  },
  {
   "cell_type": "code",
   "execution_count": 56,
   "metadata": {},
   "outputs": [],
   "source": [
    "def save_kmer(k, pri_max_len, mature1_max_len, mature2_max_len):\n",
    "    path = 'our_data/nodes/mirnas_' + str(k) + '.h5'\n",
    "    f = h5py.File(path, 'w')\n",
    "    for index, mirna in mirnas.iterrows():\n",
    "        dg = f.create_group(mirna['Accession'])\n",
    "        dg.create_dataset('pri_seq', data=get_kmer(mirna['Sequence'], k, pri_max_len))\n",
    "        dg.create_dataset('mature1_seq', data=get_kmer(mirna['Mature1_Seq'], k, mature1_max_len))\n",
    "        if not pd.isna(mirna['Mature2_Acc']):\n",
    "            dg.create_dataset('mature2_seq', data=get_kmer(mirna['Mature2_Seq'], k, mature2_max_len))\n",
    "        else:\n",
    "            dg.create_dataset('mature2_seq', data=get_kmer('', k, mature2_max_len))\n",
    "    f.close()"
   ]
  },
  {
   "cell_type": "code",
   "execution_count": 57,
   "metadata": {},
   "outputs": [],
   "source": [
    "# save_kmer(3, 180, 27, 28)"
   ]
  },
  {
   "cell_type": "code",
   "execution_count": null,
   "metadata": {
    "tags": []
   },
   "outputs": [],
   "source": [
    "# f = h5py.File('our_data/nodes/mirnas_3.h5',\"r\")\n",
    "# f.visititems(print)\n",
    "# f.close()"
   ]
  },
  {
   "attachments": {},
   "cell_type": "markdown",
   "metadata": {
    "jp-MarkdownHeadingCollapsed": true,
    "tags": []
   },
   "source": [
    "## 1-mer  \n",
    "\n",
    "It's what we use."
   ]
  },
  {
   "cell_type": "code",
   "execution_count": 59,
   "metadata": {},
   "outputs": [],
   "source": [
    "def get_1mer(seq, max_len):\n",
    "    seq = seq + 'N' * (max_len - len(seq))\n",
    "    onehot_seqs = []\n",
    "    AUCG_map = {\n",
    "        'A': 0,\n",
    "        'U': 1,\n",
    "        'C': 2,\n",
    "        'G': 3\n",
    "    } # A, U, C, G -> 0, 1, 2, 3\n",
    "    for i in range(len(seq)):\n",
    "        if seq[i] == 'N':\n",
    "            onehot_seqs.append(np.array([0.25, 0.25, 0.25, 0.25]))\n",
    "        else:\n",
    "            onehot_seq = np.zeros(4)\n",
    "            onehot_seq[AUCG_map[seq[i]]] = 1\n",
    "            onehot_seqs.append(onehot_seq)\n",
    "    return np.array(onehot_seqs)"
   ]
  },
  {
   "cell_type": "code",
   "execution_count": 60,
   "metadata": {
    "tags": []
   },
   "outputs": [
    {
     "data": {
      "text/plain": [
       "array([[1.  , 0.  , 0.  , 0.  ],\n",
       "       [0.  , 1.  , 0.  , 0.  ],\n",
       "       [0.  , 1.  , 0.  , 0.  ],\n",
       "       [0.  , 0.  , 0.  , 1.  ],\n",
       "       [0.  , 0.  , 0.  , 1.  ],\n",
       "       [0.  , 0.  , 1.  , 0.  ],\n",
       "       [0.25, 0.25, 0.25, 0.25],\n",
       "       [0.25, 0.25, 0.25, 0.25]])"
      ]
     },
     "execution_count": 60,
     "metadata": {},
     "output_type": "execute_result"
    }
   ],
   "source": [
    "get_1mer('AUUGGC', 8)"
   ]
  },
  {
   "cell_type": "code",
   "execution_count": 61,
   "metadata": {},
   "outputs": [],
   "source": [
    "def save_1mer(pri_max_len, mature1_max_len, mature2_max_len):\n",
    "    path = 'our_data/nodes/mirnas_1.h5'\n",
    "    f = h5py.File(path, 'w')\n",
    "    for index, mirna in mirnas.iterrows():\n",
    "        dg = f.create_group(mirna['Accession'])\n",
    "        dg.create_dataset('pri_seq', data=get_1mer(mirna['Sequence'], pri_max_len))\n",
    "        dg.create_dataset('mature1_seq', data=get_1mer(mirna['Mature1_Seq'], mature1_max_len))\n",
    "        if not pd.isna(mirna['Mature2_Acc']):\n",
    "            dg.create_dataset('mature2_seq', data=get_1mer(mirna['Mature2_Seq'], mature2_max_len))\n",
    "        else:\n",
    "            dg.create_dataset('mature2_seq', data=get_1mer('', mature2_max_len))\n",
    "    f.close()"
   ]
  },
  {
   "cell_type": "code",
   "execution_count": 62,
   "metadata": {},
   "outputs": [],
   "source": [
    "save_1mer(180, 27, 28)"
   ]
  },
  {
   "cell_type": "code",
   "execution_count": null,
   "metadata": {
    "tags": []
   },
   "outputs": [],
   "source": [
    "f = h5py.File('our_data/nodes/mirnas_1.h5',\"r\")\n",
    "f.visititems(print)\n",
    "f.close()"
   ]
  },
  {
   "attachments": {},
   "cell_type": "markdown",
   "metadata": {
    "jp-MarkdownHeadingCollapsed": true,
    "tags": []
   },
   "source": [
    "# Disease Text"
   ]
  },
  {
   "attachments": {},
   "cell_type": "markdown",
   "metadata": {
    "jp-MarkdownHeadingCollapsed": true,
    "tags": []
   },
   "source": [
    "## BioBERT"
   ]
  },
  {
   "cell_type": "code",
   "execution_count": 65,
   "metadata": {},
   "outputs": [
    {
     "data": {
      "text/html": [
       "<div>\n",
       "<style scoped>\n",
       "    .dataframe tbody tr th:only-of-type {\n",
       "        vertical-align: middle;\n",
       "    }\n",
       "\n",
       "    .dataframe tbody tr th {\n",
       "        vertical-align: top;\n",
       "    }\n",
       "\n",
       "    .dataframe thead th {\n",
       "        text-align: right;\n",
       "    }\n",
       "</style>\n",
       "<table border=\"1\" class=\"dataframe\">\n",
       "  <thead>\n",
       "    <tr style=\"text-align: right;\">\n",
       "      <th></th>\n",
       "      <th>ID</th>\n",
       "      <th>Disease Name</th>\n",
       "      <th>MeSH Scope Note</th>\n",
       "    </tr>\n",
       "  </thead>\n",
       "  <tbody>\n",
       "    <tr>\n",
       "      <th>0</th>\n",
       "      <td>D000006</td>\n",
       "      <td>Abdomen, Acute</td>\n",
       "      <td>A clinical syndrome with acute abdominal pain ...</td>\n",
       "    </tr>\n",
       "    <tr>\n",
       "      <th>1</th>\n",
       "      <td>D000007</td>\n",
       "      <td>Abdominal Injuries</td>\n",
       "      <td>General or unspecified injuries involving orga...</td>\n",
       "    </tr>\n",
       "    <tr>\n",
       "      <th>2</th>\n",
       "      <td>D000008</td>\n",
       "      <td>Abdominal Neoplasms</td>\n",
       "      <td>New abnormal growth of tissue in the ABDOMEN.</td>\n",
       "    </tr>\n",
       "  </tbody>\n",
       "</table>\n",
       "</div>"
      ],
      "text/plain": [
       "        ID         Disease Name  \\\n",
       "0  D000006       Abdomen, Acute   \n",
       "1  D000007   Abdominal Injuries   \n",
       "2  D000008  Abdominal Neoplasms   \n",
       "\n",
       "                                     MeSH Scope Note  \n",
       "0  A clinical syndrome with acute abdominal pain ...  \n",
       "1  General or unspecified injuries involving orga...  \n",
       "2      New abnormal growth of tissue in the ABDOMEN.  "
      ]
     },
     "execution_count": 65,
     "metadata": {},
     "output_type": "execute_result"
    }
   ],
   "source": [
    "diseases = pd.read_table('our_data/nodes/diseases.tsv')\n",
    "diseases.head(3)"
   ]
  },
  {
   "attachments": {},
   "cell_type": "markdown",
   "metadata": {},
   "source": [
    "The following txt and h5 files are then moved to **'our_data/nodes'**."
   ]
  },
  {
   "cell_type": "code",
   "execution_count": 25,
   "metadata": {},
   "outputs": [],
   "source": [
    "diseases['Disease Name'].to_csv('biobert-pytorch/embedding/mesh_disease_name.txt', sep = '\\t', index=False)"
   ]
  },
  {
   "cell_type": "code",
   "execution_count": 41,
   "metadata": {},
   "outputs": [],
   "source": [
    "diseases['MeSH Scope Note'].str.replace('\"', '').to_csv('biobert-pytorch/embedding/mesh_disease_scope_note.txt', sep = '\\t', index=False)"
   ]
  },
  {
   "attachments": {},
   "cell_type": "markdown",
   "metadata": {},
   "source": [
    "Run the following command under 'biobert-pytorch/embedding'\n",
    "\n",
    "**mesh_disease_name**\n",
    "```bash\n",
    "export MAX_LENGTH=384\n",
    "export DATA_PATH=mesh_disease_name.txt\n",
    "export OUTPUT_PATH=mesh_disease_name.h5\n",
    "export BATCH_SIZE=64\n",
    "\n",
    "python run_embedding.py \\\n",
    "    --model_name_or_path dmis-lab/biobert-base-cased-v1.1 \\\n",
    "    --max_seq_length  ${MAX_LENGTH} \\\n",
    "    --data_path ${DATA_PATH} \\\n",
    "    --output_path ${OUTPUT_PATH} \\\n",
    "    --batch_size ${BATCH_SIZE} \\\n",
    "    --pooling mean\n",
    "```\n",
    "**mesh_disease_scope_note**\n",
    "```bash\n",
    "export MAX_LENGTH=384\n",
    "export DATA_PATH=mesh_disease_scope_note.txt\n",
    "export OUTPUT_PATH=mesh_disease_scope_note.h5\n",
    "export BATCH_SIZE=64\n",
    "\n",
    "python run_embedding.py \\\n",
    "    --model_name_or_path dmis-lab/biobert-base-cased-v1.1 \\\n",
    "    --max_seq_length  ${MAX_LENGTH} \\\n",
    "    --data_path ${DATA_PATH} \\\n",
    "    --output_path ${OUTPUT_PATH} \\\n",
    "    --batch_size ${BATCH_SIZE} \\\n",
    "    --pooling mean\n",
    "```"
   ]
  },
  {
   "cell_type": "code",
   "execution_count": null,
   "metadata": {
    "tags": []
   },
   "outputs": [],
   "source": [
    "f = h5py.File('biobert-pytorch/embedding/mesh_disease_name.h5', 'r')\n",
    "f.visititems(print)\n",
    "f.close()"
   ]
  },
  {
   "cell_type": "code",
   "execution_count": null,
   "metadata": {
    "tags": []
   },
   "outputs": [],
   "source": [
    "f = h5py.File('biobert-pytorch/embedding/mesh_disease_scope_note.h5', 'r')\n",
    "f.visititems(print)\n",
    "f.close()"
   ]
  },
  {
   "attachments": {},
   "cell_type": "markdown",
   "metadata": {},
   "source": [
    "diseases.tsv & mesh_disease_name.h5 & mesh_disease_scope_note.h5 -> diseases.h5"
   ]
  },
  {
   "cell_type": "code",
   "execution_count": null,
   "metadata": {
    "tags": []
   },
   "outputs": [],
   "source": [
    "f_name = h5py.File('our_data/nodes/mesh_disease_name.h5', 'r')\n",
    "f_name.visititems(print)"
   ]
  },
  {
   "cell_type": "code",
   "execution_count": null,
   "metadata": {
    "tags": []
   },
   "outputs": [],
   "source": [
    "f_note = h5py.File('our_data/nodes/mesh_disease_scope_note.h5', 'r')\n",
    "f_note.visititems(print)"
   ]
  },
  {
   "cell_type": "code",
   "execution_count": 68,
   "metadata": {},
   "outputs": [],
   "source": [
    "f = h5py.File('our_data/nodes/diseases.h5', 'w')\n",
    "\n",
    "diseases['MeSH Scope Note'] = diseases['MeSH Scope Note'].str.replace('\"', '')\n",
    "for index, disease in diseases.iterrows():\n",
    "    dg = f.create_group(disease['ID'])\n",
    "    dg.create_dataset('disease_name', data=np.array(f_name[disease['Disease Name']]['embedding']))\n",
    "    dg.create_dataset('mesh_scope_note', data=np.array(f_note[disease['MeSH Scope Note']]['embedding']))\n",
    "\n",
    "f.close()"
   ]
  },
  {
   "cell_type": "code",
   "execution_count": 69,
   "metadata": {},
   "outputs": [],
   "source": [
    "f_name.close()\n",
    "f_note.close()"
   ]
  },
  {
   "cell_type": "code",
   "execution_count": null,
   "metadata": {
    "tags": []
   },
   "outputs": [],
   "source": [
    "f = h5py.File('our_data/nodes/diseases.h5', 'r')\n",
    "f.visititems(print)\n",
    "f.close()"
   ]
  },
  {
   "attachments": {},
   "cell_type": "markdown",
   "metadata": {
    "jp-MarkdownHeadingCollapsed": true,
    "tags": []
   },
   "source": [
    "# MRNA Name"
   ]
  },
  {
   "attachments": {},
   "cell_type": "markdown",
   "metadata": {
    "tags": []
   },
   "source": [
    "## BioBERT"
   ]
  },
  {
   "cell_type": "code",
   "execution_count": 16,
   "metadata": {},
   "outputs": [
    {
     "data": {
      "text/html": [
       "<div>\n",
       "<style scoped>\n",
       "    .dataframe tbody tr th:only-of-type {\n",
       "        vertical-align: middle;\n",
       "    }\n",
       "\n",
       "    .dataframe tbody tr th {\n",
       "        vertical-align: top;\n",
       "    }\n",
       "\n",
       "    .dataframe thead th {\n",
       "        text-align: right;\n",
       "    }\n",
       "</style>\n",
       "<table border=\"1\" class=\"dataframe\">\n",
       "  <thead>\n",
       "    <tr style=\"text-align: right;\">\n",
       "      <th></th>\n",
       "      <th>ID</th>\n",
       "      <th>Symbol</th>\n",
       "      <th>Name</th>\n",
       "      <th>Gene Groups</th>\n",
       "    </tr>\n",
       "  </thead>\n",
       "  <tbody>\n",
       "    <tr>\n",
       "      <th>0</th>\n",
       "      <td>1</td>\n",
       "      <td>A1BG</td>\n",
       "      <td>alpha-1-B glycoprotein</td>\n",
       "      <td>Immunoglobulin like domain containing</td>\n",
       "    </tr>\n",
       "    <tr>\n",
       "      <th>1</th>\n",
       "      <td>29974</td>\n",
       "      <td>A1CF</td>\n",
       "      <td>APOBEC1 complementation factor</td>\n",
       "      <td>RNA binding motif containing</td>\n",
       "    </tr>\n",
       "    <tr>\n",
       "      <th>2</th>\n",
       "      <td>2</td>\n",
       "      <td>A2M</td>\n",
       "      <td>alpha-2-macroglobulin</td>\n",
       "      <td>Alpha-2-macroglobulin family</td>\n",
       "    </tr>\n",
       "  </tbody>\n",
       "</table>\n",
       "</div>"
      ],
      "text/plain": [
       "      ID Symbol                            Name  \\\n",
       "0      1   A1BG          alpha-1-B glycoprotein   \n",
       "1  29974   A1CF  APOBEC1 complementation factor   \n",
       "2      2    A2M           alpha-2-macroglobulin   \n",
       "\n",
       "                             Gene Groups  \n",
       "0  Immunoglobulin like domain containing  \n",
       "1           RNA binding motif containing  \n",
       "2           Alpha-2-macroglobulin family  "
      ]
     },
     "execution_count": 16,
     "metadata": {},
     "output_type": "execute_result"
    }
   ],
   "source": [
    "mrnas = pd.read_table('our_data/nodes/mrnas.tsv')\n",
    "mrnas['Gene Groups'] = mrnas['Gene Groups'].fillna('Null')\n",
    "mrnas.head(3)"
   ]
  },
  {
   "attachments": {},
   "cell_type": "markdown",
   "metadata": {},
   "source": [
    "The following txt and h5 files are then moved to  **'our_data/nodes'**."
   ]
  },
  {
   "cell_type": "code",
   "execution_count": 6,
   "metadata": {},
   "outputs": [],
   "source": [
    "mrnas['Name'].to_csv('biobert-pytorch/embedding/mrna_name.txt', sep = '\\t', index=False)"
   ]
  },
  {
   "cell_type": "code",
   "execution_count": 17,
   "metadata": {},
   "outputs": [],
   "source": [
    "mrnas['Gene Groups'].drop_duplicates().to_csv('biobert-pytorch/embedding/mrna_gene_groups.txt', sep = '\\t', index=False)"
   ]
  },
  {
   "attachments": {},
   "cell_type": "markdown",
   "metadata": {},
   "source": [
    "Run the following command under 'biobert-pytorch/embedding'\n",
    "\n",
    "**mrna_name**\n",
    "```bash\n",
    "export MAX_LENGTH=384\n",
    "export DATA_PATH=mrna_name.txt\n",
    "export OUTPUT_PATH=mrna_name.h5\n",
    "export BATCH_SIZE=64\n",
    "\n",
    "python run_embedding.py \\\n",
    "    --model_name_or_path dmis-lab/biobert-base-cased-v1.1 \\\n",
    "    --max_seq_length  ${MAX_LENGTH} \\\n",
    "    --data_path ${DATA_PATH} \\\n",
    "    --output_path ${OUTPUT_PATH} \\\n",
    "    --batch_size ${BATCH_SIZE} \\\n",
    "    --pooling mean\n",
    "```\n",
    "\n",
    "**gene_groups**\n",
    "```bash\n",
    "export MAX_LENGTH=384\n",
    "export DATA_PATH=mrna_gene_groups.txt\n",
    "export OUTPUT_PATH=mrna_gene_groups.h5\n",
    "export BATCH_SIZE=64\n",
    "\n",
    "python run_embedding.py \\\n",
    "    --model_name_or_path dmis-lab/biobert-base-cased-v1.1 \\\n",
    "    --max_seq_length  ${MAX_LENGTH} \\\n",
    "    --data_path ${DATA_PATH} \\\n",
    "    --output_path ${OUTPUT_PATH} \\\n",
    "    --batch_size ${BATCH_SIZE} \\\n",
    "    --pooling mean\n",
    "```"
   ]
  },
  {
   "cell_type": "code",
   "execution_count": null,
   "metadata": {
    "tags": []
   },
   "outputs": [],
   "source": [
    "f = h5py.File('biobert-pytorch/embedding/mrna_name.h5', 'r')\n",
    "f.visititems(print)\n",
    "f.close()"
   ]
  },
  {
   "cell_type": "code",
   "execution_count": null,
   "metadata": {
    "tags": []
   },
   "outputs": [],
   "source": [
    "f = h5py.File('biobert-pytorch/embedding/mrna_gene_groups.h5', 'r')\n",
    "f.visititems(print)\n",
    "f.close()"
   ]
  },
  {
   "attachments": {},
   "cell_type": "markdown",
   "metadata": {},
   "source": [
    "mrnas.tsv & mrna_name.h5 & mrna_gene_groups.h5 -> mrnas.h5"
   ]
  },
  {
   "cell_type": "code",
   "execution_count": null,
   "metadata": {
    "tags": []
   },
   "outputs": [],
   "source": [
    "f_name = h5py.File('our_data/nodes/mrna_name.h5', 'r')\n",
    "f_name.visititems(print)"
   ]
  },
  {
   "cell_type": "code",
   "execution_count": null,
   "metadata": {
    "tags": []
   },
   "outputs": [],
   "source": [
    "f_group = h5py.File('our_data/nodes/mrna_gene_groups.h5', 'r')\n",
    "f_group.visititems(print)"
   ]
  },
  {
   "cell_type": "code",
   "execution_count": 13,
   "metadata": {},
   "outputs": [],
   "source": [
    "f = h5py.File('our_data/nodes/mrnas.h5', 'w')\n",
    "\n",
    "mrnas['Gene Groups'] = mrnas['Gene Groups'].str.strip()\n",
    "\n",
    "for index, mrna in mrnas.iterrows():\n",
    "    dg = f.create_group(str(mrna['ID']))\n",
    "    dg.create_dataset('mrna_name', data=np.array(f_name[mrna['Name']]['embedding']))\n",
    "    dg.create_dataset('mrna_gene_groups', data=np.array(f_group[mrna['Gene Groups']]['embedding']))\n",
    "\n",
    "f.close()"
   ]
  },
  {
   "cell_type": "code",
   "execution_count": 14,
   "metadata": {},
   "outputs": [],
   "source": [
    "f_name.close()\n",
    "f_group.close()"
   ]
  },
  {
   "cell_type": "code",
   "execution_count": null,
   "metadata": {
    "tags": []
   },
   "outputs": [],
   "source": [
    "f = h5py.File('our_data/nodes/mrnas.h5', 'r')\n",
    "f.visititems(print)\n",
    "f.close()"
   ]
  },
  {
   "attachments": {},
   "cell_type": "markdown",
   "metadata": {
    "jp-MarkdownHeadingCollapsed": true,
    "tags": []
   },
   "source": [
    "# Heterogeneous Graph (PyG)"
   ]
  },
  {
   "cell_type": "code",
   "execution_count": null,
   "metadata": {},
   "outputs": [],
   "source": [
    "import torch\n",
    "from torch import Tensor\n",
    "import torch.nn as nn\n",
    "import torch.nn.functional as F\n",
    "\n",
    "from torch_geometric.data import HeteroData\n",
    "import torch_geometric.transforms as T"
   ]
  },
  {
   "attachments": {},
   "cell_type": "markdown",
   "metadata": {},
   "source": [
    "## data_without_mrna_and_mid"
   ]
  },
  {
   "cell_type": "code",
   "execution_count": 3,
   "metadata": {},
   "outputs": [],
   "source": [
    "mirnas_df = pd.read_table('our_data/nodes/mirnas.tsv')\n",
    "assert len(mirnas_df['Accession']) == len(mirnas_df['Accession'].unique())\n",
    "\n",
    "mirna_id = pd.DataFrame(data={\n",
    "    'mirna_id': mirnas_df['Accession'],\n",
    "    'mapped_id': pd.RangeIndex(len(mirnas_df['Accession']))\n",
    "})\n",
    "\n",
    "diseases_df = pd.read_table('our_data/nodes/diseases.tsv')\n",
    "assert len(diseases_df['ID']) == len(diseases_df['ID'].unique())\n",
    "\n",
    "disease_id = pd.DataFrame(data={\n",
    "    'disease_id': diseases_df['ID'],\n",
    "    'mapped_id': pd.RangeIndex(len(diseases_df['ID']))\n",
    "})"
   ]
  },
  {
   "cell_type": "code",
   "execution_count": 4,
   "metadata": {},
   "outputs": [
    {
     "name": "stdout",
     "output_type": "stream",
     "text": [
      "torch.Size([1917, 235, 4])\n",
      "torch.Size([4933, 1536])\n"
     ]
    }
   ],
   "source": [
    "mirnas_h5 = h5py.File('our_data/nodes/mirnas_1.h5','r')\n",
    "mirna_pri, mirna_mature1, mirna_mature2 = [], [], []\n",
    "for idx, mirna in mirna_id['mirna_id'].items():\n",
    "    mirna_pri.append(np.array(mirnas_h5[mirna + '/pri_seq']))\n",
    "    mirna_mature1.append(np.array(mirnas_h5[mirna + '/mature1_seq']))\n",
    "    mirna_mature2.append(np.array(mirnas_h5[mirna + '/mature2_seq']))\n",
    "mirna_pri, mirna_mature1, mirna_mature2 = np.array(mirna_pri), np.array(mirna_mature1), np.array(mirna_mature2)\n",
    "mirna_x = torch.from_numpy(np.concatenate((mirna_pri, mirna_mature1, mirna_mature2), axis=1))\n",
    "mirnas_h5.close()\n",
    "\n",
    "print(mirna_x.shape)\n",
    "\n",
    "diseases_h5 = h5py.File('our_data/nodes/diseases.h5','r')\n",
    "disease_name, mesh_scope_note = [], []\n",
    "for idx, disease in disease_id['disease_id'].items():\n",
    "    disease_name.append(np.array(diseases_h5[disease + '/disease_name']))\n",
    "    mesh_scope_note.append(np.array(diseases_h5[disease + '/mesh_scope_note']))\n",
    "disease_name, mesh_scope_note = np.array(disease_name), np.array(mesh_scope_note)\n",
    "disease_x = torch.from_numpy(np.concatenate((disease_name, mesh_scope_note), axis=1))\n",
    "diseases_h5.close()\n",
    "\n",
    "print(disease_x.shape)"
   ]
  },
  {
   "cell_type": "code",
   "execution_count": 5,
   "metadata": {},
   "outputs": [],
   "source": [
    "mirna_mirna_df = pd.read_table('our_data/edges/families_pri_mirna_pri_mirna.tsv').drop_duplicates()\n",
    "mirna_mirna_df = mirna_mirna_df[(mirna_mirna_df['ID1'].isin(mirna_id['mirna_id'])) & (mirna_mirna_df['ID2'].isin(mirna_id['mirna_id']))]\n",
    "\n",
    "mimi_mirna1_id = pd.merge(mirna_mirna_df['ID1'], mirna_id, left_on='ID1', right_on='mirna_id', how='left')\n",
    "mimi_mirna1_id = torch.from_numpy(mimi_mirna1_id['mapped_id'].values)\n",
    "mimi_mirna2_id = pd.merge(mirna_mirna_df['ID2'], mirna_id, left_on='ID2', right_on='mirna_id', how='left')\n",
    "mimi_mirna2_id = torch.from_numpy(mimi_mirna2_id['mapped_id'].values)\n",
    "\n",
    "assert torch.isnan(mimi_mirna1_id).any() == False\n",
    "assert torch.isnan(mimi_mirna2_id).any() == False\n",
    "\n",
    "disease_disease_df = pd.read_table('our_data/edges/disease_disease.tsv')[['ID1', 'ID2']].drop_duplicates()\n",
    "\n",
    "dd_disease1_id = pd.merge(disease_disease_df['ID1'], disease_id, left_on='ID1', right_on='disease_id', how='left')\n",
    "dd_disease1_id = torch.from_numpy(dd_disease1_id['mapped_id'].values)\n",
    "dd_disease2_id = pd.merge(disease_disease_df['ID2'], disease_id, left_on='ID2', right_on='disease_id', how='left')\n",
    "dd_disease2_id = torch.from_numpy(dd_disease2_id['mapped_id'].values)\n",
    "\n",
    "assert torch.isnan(dd_disease1_id).any() == False\n",
    "assert torch.isnan(dd_disease2_id).any() == False"
   ]
  },
  {
   "cell_type": "code",
   "execution_count": 6,
   "metadata": {},
   "outputs": [
    {
     "name": "stdout",
     "output_type": "stream",
     "text": [
      "HeteroData(\n",
      "  \u001b[1mmirna\u001b[0m={\n",
      "    node_id=[1917],\n",
      "    x=[1917, 235, 4]\n",
      "  },\n",
      "  \u001b[1mdisease\u001b[0m={\n",
      "    node_id=[4933],\n",
      "    x=[4933, 1536]\n",
      "  },\n",
      "  \u001b[1m(mirna, family, mirna)\u001b[0m={ edge_index=[2, 4500] },\n",
      "  \u001b[1m(disease, fatherson, disease)\u001b[0m={ edge_index=[2, 7678] }\n",
      ")\n"
     ]
    }
   ],
   "source": [
    "data = HeteroData()\n",
    "\n",
    "data['mirna'].node_id = torch.arange(len(mirna_id))\n",
    "data['mirna'].x = mirna_x\n",
    "data['disease'].node_id = torch.arange(len(disease_id))\n",
    "data['disease'].x = disease_x\n",
    "\n",
    "data['mirna', 'family', 'mirna'].edge_index = torch.stack([mimi_mirna1_id, mimi_mirna2_id], dim=0)\n",
    "data['disease', 'fatherson', 'disease'].edge_index = torch.stack([dd_disease1_id, dd_disease2_id], dim=0)\n",
    "\n",
    "# data = T.ToUndirected()(data)\n",
    "\n",
    "print(data)"
   ]
  },
  {
   "cell_type": "code",
   "execution_count": 7,
   "metadata": {},
   "outputs": [],
   "source": [
    "# torch.save(data, 'our_data/data_without_mrna_and_mid.pt')"
   ]
  },
  {
   "attachments": {},
   "cell_type": "markdown",
   "metadata": {},
   "source": [
    "## data_without_mid"
   ]
  },
  {
   "cell_type": "code",
   "execution_count": 8,
   "metadata": {},
   "outputs": [],
   "source": [
    "# There are some circles in mrna-mrna edges, like (ID1 123, ID2 321) and (ID1 321, ID2 123).\n",
    "# Here we should remove them\n",
    "def sort_mrna_mrna(mrna_mrna_df):\n",
    "    mrna_mrna_sorted = []\n",
    "    for mrna_mrna in mrna_mrna_df.values:\n",
    "        if mrna_mrna[0] < mrna_mrna[1]:\n",
    "            mrna_mrna_sorted.append([mrna_mrna[0], mrna_mrna[1]])\n",
    "        else:\n",
    "            mrna_mrna_sorted.append([mrna_mrna[1], mrna_mrna[0]])\n",
    "    return np.array(mrna_mrna_sorted)"
   ]
  },
  {
   "cell_type": "code",
   "execution_count": 9,
   "metadata": {},
   "outputs": [
    {
     "name": "stdout",
     "output_type": "stream",
     "text": [
      "torch.Size([19229, 1536])\n"
     ]
    }
   ],
   "source": [
    "mrnas_df = pd.read_table('our_data/nodes/mrnas.tsv')\n",
    "assert len(mrnas_df['ID']) == len(mrnas_df['ID'].unique())\n",
    "\n",
    "mrna_id = pd.DataFrame(data={\n",
    "    'mrna_id': mrnas_df['ID'],\n",
    "    'mapped_id': pd.RangeIndex(len(mrnas_df['ID']))\n",
    "})\n",
    "\n",
    "mrnas_h5 = h5py.File('our_data/nodes/mrnas.h5','r')\n",
    "mrna_name, mrna_gene_groups = [], []\n",
    "for idx, mrna in mrna_id['mrna_id'].items():\n",
    "    mrna_name.append(np.array(mrnas_h5[str(mrna) + '/mrna_name']))\n",
    "    mrna_gene_groups.append(np.array(mrnas_h5[str(mrna) + '/mrna_gene_groups']))\n",
    "mrna_name, mrna_gene_groups = np.array(mrna_name), np.array(mrna_gene_groups)\n",
    "mrna_x = torch.from_numpy(np.concatenate((mrna_name, mrna_gene_groups), axis=1))\n",
    "mrnas_h5.close()\n",
    "\n",
    "print(mrna_x.shape)\n",
    "\n",
    "mrna_mrna_df = pd.read_table('our_data/edges/groups_mrna_mrna.tsv').drop_duplicates()\n",
    "mrna_mrna_sorted = sort_mrna_mrna(mrna_mrna_df).T\n",
    "mrna_mrna_df = pd.DataFrame({\n",
    "    'ID1': mrna_mrna_sorted[0],\n",
    "    'ID2': mrna_mrna_sorted[1]\n",
    "}).drop_duplicates()\n",
    "\n",
    "mm_mrna1_id = pd.merge(mrna_mrna_df['ID1'], mrna_id, left_on='ID1', right_on='mrna_id', how='left')\n",
    "mm_mrna1_id = torch.from_numpy(mm_mrna1_id['mapped_id'].values)\n",
    "mm_mrna2_id = pd.merge(mrna_mrna_df['ID2'], mrna_id, left_on='ID2', right_on='mrna_id', how='left')\n",
    "mm_mrna2_id = torch.from_numpy(mm_mrna2_id['mapped_id'].values)\n",
    "\n",
    "assert torch.isnan(mm_mrna1_id).any() == False\n",
    "assert torch.isnan(mm_mrna2_id).any() == False\n",
    "\n",
    "mirna_mrna_df = pd.read_table('our_data/edges/mirna_mrna_encori_degradome.tsv')[['ID1', 'geneEntrezID']].drop_duplicates()\n",
    "\n",
    "mim_mirna_id = pd.merge(mirna_mrna_df['ID1'], mirna_id, left_on='ID1', right_on='mirna_id', how='left')\n",
    "mim_mirna_id = torch.from_numpy(mim_mirna_id['mapped_id'].values)\n",
    "mim_mrna_id = pd.merge(mirna_mrna_df['geneEntrezID'], mrna_id, left_on='geneEntrezID', right_on='mrna_id', how='left')\n",
    "mim_mrna_id = torch.from_numpy(mim_mrna_id['mapped_id'].values)\n",
    "\n",
    "assert torch.isnan(mim_mirna_id).any() == False\n",
    "assert torch.isnan(mim_mrna_id).any() == False\n",
    "\n",
    "mrna_disease_df = pd.read_table('our_data/edges/mrna_disease_disgenet.tsv')[['geneId', 'code']].drop_duplicates()\n",
    "\n",
    "md_mrna_id = pd.merge(mrna_disease_df['geneId'], mrna_id, left_on='geneId', right_on='mrna_id', how='left')\n",
    "md_mrna_id = torch.from_numpy(md_mrna_id['mapped_id'].values)\n",
    "md_disease_id = pd.merge(mrna_disease_df['code'], disease_id, left_on='code', right_on='disease_id', how='left')\n",
    "md_disease_id = torch.from_numpy(md_disease_id['mapped_id'].values)\n",
    "\n",
    "assert torch.isnan(md_mrna_id).any() == False\n",
    "assert torch.isnan(md_disease_id).any() == False"
   ]
  },
  {
   "cell_type": "code",
   "execution_count": 10,
   "metadata": {},
   "outputs": [
    {
     "name": "stdout",
     "output_type": "stream",
     "text": [
      "HeteroData(\n",
      "  \u001b[1mmirna\u001b[0m={\n",
      "    node_id=[1917],\n",
      "    x=[1917, 235, 4]\n",
      "  },\n",
      "  \u001b[1mdisease\u001b[0m={\n",
      "    node_id=[4933],\n",
      "    x=[4933, 1536]\n",
      "  },\n",
      "  \u001b[1mmrna\u001b[0m={\n",
      "    node_id=[19229],\n",
      "    x=[19229, 1536]\n",
      "  },\n",
      "  \u001b[1m(mirna, family, mirna)\u001b[0m={ edge_index=[2, 4500] },\n",
      "  \u001b[1m(disease, fatherson, disease)\u001b[0m={ edge_index=[2, 7678] },\n",
      "  \u001b[1m(mrna, group, mrna)\u001b[0m={ edge_index=[2, 1219564] },\n",
      "  \u001b[1m(mirna, association, mrna)\u001b[0m={ edge_index=[2, 144636] },\n",
      "  \u001b[1m(mrna, association, disease)\u001b[0m={ edge_index=[2, 134805] }\n",
      ")\n"
     ]
    }
   ],
   "source": [
    "data['mrna'].node_id = torch.arange(len(mrna_id))\n",
    "data['mrna'].x = mrna_x\n",
    "\n",
    "data['mrna', 'group', 'mrna'].edge_index = torch.stack([mm_mrna1_id, mm_mrna2_id], dim=0)\n",
    "data['mirna', 'association', 'mrna'].edge_index = torch.stack([mim_mirna_id, mim_mrna_id], dim=0)\n",
    "data['mrna', 'association', 'disease'].edge_index = torch.stack([md_mrna_id, md_disease_id], dim=0)\n",
    "\n",
    "# data = T.ToUndirected()(data)\n",
    "\n",
    "print(data)"
   ]
  },
  {
   "cell_type": "code",
   "execution_count": 11,
   "metadata": {},
   "outputs": [],
   "source": [
    "# torch.save(data, 'our_data/data_without_mid.pt')"
   ]
  },
  {
   "attachments": {},
   "cell_type": "markdown",
   "metadata": {},
   "source": [
    "## data_feature_randn_without_mid"
   ]
  },
  {
   "cell_type": "code",
   "execution_count": 3,
   "metadata": {},
   "outputs": [],
   "source": [
    "data = torch.load('our_data/data_without_mid.pt')"
   ]
  },
  {
   "cell_type": "code",
   "execution_count": 5,
   "metadata": {},
   "outputs": [],
   "source": [
    "data['mirna']['x'] = torch.randn(data['mirna']['x'].shape)\n",
    "data['disease']['x'] = torch.randn(data['disease']['x'].shape)\n",
    "data['mrna']['x'] = torch.randn(data['mrna']['x'].shape)"
   ]
  },
  {
   "cell_type": "code",
   "execution_count": 8,
   "metadata": {},
   "outputs": [],
   "source": [
    "# torch.save(data, 'our_data/data_feature_randn_without_mid.pt')"
   ]
  },
  {
   "attachments": {},
   "cell_type": "markdown",
   "metadata": {},
   "source": [
    "# Conclusion"
   ]
  },
  {
   "attachments": {},
   "cell_type": "markdown",
   "metadata": {},
   "source": [
    "From separated tsv files to unified HeteroData pt file\n",
    "\n",
    "||File|Type|$\\|N\\|$|\n",
    "|---|---|---|---|\n",
    "|Nodes|diseases.tsv|Disease|4933|\n",
    "||mirnas.tsv|MiRNA (Pri & Mature)|1917|\n",
    "||mrnas.tsv|MRNA|19229|\n",
    "|Edges Intra|disease_disease.tsv|Disease - Disease|7678 (12726)|\n",
    "||families_pri_mirna_pri_mirna.tsv|Pri MiRNA - Pri MiRNA|4500 (4513)|\n",
    "||groups_mrna_mrna.tsv|MRNA - MRNA|1219564 (1246065)|\n",
    "|Edges Inter|mirna_disease_rnadisease.tsv|MiRNA - Disease|57298 (154647)|\n",
    "||mirna_mrna_encori_degradome.tsv|MiRNA - MRNA|144636|\n",
    "||mrna_disease_disgenet.tsv|MRNA - Disease|134805 (1277375)|\n",
    "\n",
    "Finally, we have **data_without_mid.pt** and data_feature_randn_without_mid.pt!"
   ]
  },
  {
   "attachments": {},
   "cell_type": "markdown",
   "metadata": {
    "tags": []
   },
   "source": [
    "# Train / Test Split"
   ]
  },
  {
   "attachments": {},
   "cell_type": "markdown",
   "metadata": {
    "jp-MarkdownHeadingCollapsed": true,
    "tags": []
   },
   "source": [
    "## By Year"
   ]
  },
  {
   "cell_type": "code",
   "execution_count": 2,
   "metadata": {
    "tags": []
   },
   "outputs": [
    {
     "data": {
      "text/html": [
       "<div>\n",
       "<style scoped>\n",
       "    .dataframe tbody tr th:only-of-type {\n",
       "        vertical-align: middle;\n",
       "    }\n",
       "\n",
       "    .dataframe tbody tr th {\n",
       "        vertical-align: top;\n",
       "    }\n",
       "\n",
       "    .dataframe thead th {\n",
       "        text-align: right;\n",
       "    }\n",
       "</style>\n",
       "<table border=\"1\" class=\"dataframe\">\n",
       "  <thead>\n",
       "    <tr style=\"text-align: right;\">\n",
       "      <th></th>\n",
       "      <th>ID1</th>\n",
       "      <th>MeSH ID</th>\n",
       "      <th>Year</th>\n",
       "    </tr>\n",
       "  </thead>\n",
       "  <tbody>\n",
       "    <tr>\n",
       "      <th>0</th>\n",
       "      <td>MI0000060</td>\n",
       "      <td>D049913</td>\n",
       "      <td>2009</td>\n",
       "    </tr>\n",
       "    <tr>\n",
       "      <th>1</th>\n",
       "      <td>MI0000060</td>\n",
       "      <td>D015470</td>\n",
       "      <td>2007</td>\n",
       "    </tr>\n",
       "    <tr>\n",
       "      <th>2</th>\n",
       "      <td>MI0000060</td>\n",
       "      <td>D015470</td>\n",
       "      <td>2008</td>\n",
       "    </tr>\n",
       "    <tr>\n",
       "      <th>3</th>\n",
       "      <td>MI0000060</td>\n",
       "      <td>D015470</td>\n",
       "      <td>2010</td>\n",
       "    </tr>\n",
       "    <tr>\n",
       "      <th>4</th>\n",
       "      <td>MI0000060</td>\n",
       "      <td>D015470</td>\n",
       "      <td>2013</td>\n",
       "    </tr>\n",
       "    <tr>\n",
       "      <th>...</th>\n",
       "      <td>...</td>\n",
       "      <td>...</td>\n",
       "      <td>...</td>\n",
       "    </tr>\n",
       "    <tr>\n",
       "      <th>154642</th>\n",
       "      <td>MI0002470</td>\n",
       "      <td>D015451</td>\n",
       "      <td>2020</td>\n",
       "    </tr>\n",
       "    <tr>\n",
       "      <th>154643</th>\n",
       "      <td>MI0002470</td>\n",
       "      <td>D008175</td>\n",
       "      <td>2017</td>\n",
       "    </tr>\n",
       "    <tr>\n",
       "      <th>154644</th>\n",
       "      <td>MI0002470</td>\n",
       "      <td>D008175</td>\n",
       "      <td>2019</td>\n",
       "    </tr>\n",
       "    <tr>\n",
       "      <th>154645</th>\n",
       "      <td>MI0003196</td>\n",
       "      <td>D009369</td>\n",
       "      <td>2015</td>\n",
       "    </tr>\n",
       "    <tr>\n",
       "      <th>154646</th>\n",
       "      <td>MI0003672</td>\n",
       "      <td>D008175</td>\n",
       "      <td>2015</td>\n",
       "    </tr>\n",
       "  </tbody>\n",
       "</table>\n",
       "<p>154647 rows × 3 columns</p>\n",
       "</div>"
      ],
      "text/plain": [
       "              ID1  MeSH ID  Year\n",
       "0       MI0000060  D049913  2009\n",
       "1       MI0000060  D015470  2007\n",
       "2       MI0000060  D015470  2008\n",
       "3       MI0000060  D015470  2010\n",
       "4       MI0000060  D015470  2013\n",
       "...           ...      ...   ...\n",
       "154642  MI0002470  D015451  2020\n",
       "154643  MI0002470  D008175  2017\n",
       "154644  MI0002470  D008175  2019\n",
       "154645  MI0003196  D009369  2015\n",
       "154646  MI0003672  D008175  2015\n",
       "\n",
       "[154647 rows x 3 columns]"
      ]
     },
     "execution_count": 2,
     "metadata": {},
     "output_type": "execute_result"
    }
   ],
   "source": [
    "mda = pd.read_table('our_data/edges/mirna_disease_rnadisease.tsv')\n",
    "mda = mda[['ID1', 'MeSH ID', 'Year']]\n",
    "mda"
   ]
  },
  {
   "cell_type": "code",
   "execution_count": 3,
   "metadata": {},
   "outputs": [
    {
     "data": {
      "text/plain": [
       "Year\n",
       "2021    8167\n",
       "2016    6076\n",
       "2012    4292\n",
       "2015    3937\n",
       "2013    3863\n",
       "2020    3556\n",
       "2014    3479\n",
       "2011    3313\n",
       "2017    3207\n",
       "2010    2881\n",
       "2022    2872\n",
       "2019    2712\n",
       "2008    2317\n",
       "2005    1862\n",
       "2007    1640\n",
       "2009    1230\n",
       "2018    1141\n",
       "2006     656\n",
       "2004      87\n",
       "2003       4\n",
       "1991       3\n",
       "2002       2\n",
       "1993       1\n",
       "dtype: int64"
      ]
     },
     "execution_count": 3,
     "metadata": {},
     "output_type": "execute_result"
    }
   ],
   "source": [
    "year_value_counts =  mda.groupby(['ID1', 'MeSH ID']).agg({'Year': min}).value_counts()\n",
    "year_value_counts"
   ]
  },
  {
   "cell_type": "code",
   "execution_count": 17,
   "metadata": {},
   "outputs": [
    {
     "name": "stdout",
     "output_type": "stream",
     "text": [
      "2021 + 2022 -> Test: 0.1926594296485043\n",
      "2019 + 2020 -> Validation: 0.10939299801040175\n"
     ]
    }
   ],
   "source": [
    "# 2021 + 2022 -> Test\n",
    "print('2021 + 2022 -> Test:', (year_value_counts[2021] + year_value_counts[2022]) / year_value_counts.sum())\n",
    "# 2019 + 2020 -> Validation\n",
    "print('2019 + 2020 -> Validation:', (year_value_counts[2019] + year_value_counts[2020]) / year_value_counts.sum())"
   ]
  },
  {
   "cell_type": "code",
   "execution_count": 4,
   "metadata": {},
   "outputs": [
    {
     "data": {
      "text/html": [
       "<div>\n",
       "<style scoped>\n",
       "    .dataframe tbody tr th:only-of-type {\n",
       "        vertical-align: middle;\n",
       "    }\n",
       "\n",
       "    .dataframe tbody tr th {\n",
       "        vertical-align: top;\n",
       "    }\n",
       "\n",
       "    .dataframe thead th {\n",
       "        text-align: right;\n",
       "    }\n",
       "</style>\n",
       "<table border=\"1\" class=\"dataframe\">\n",
       "  <thead>\n",
       "    <tr style=\"text-align: right;\">\n",
       "      <th></th>\n",
       "      <th></th>\n",
       "      <th>Year</th>\n",
       "    </tr>\n",
       "    <tr>\n",
       "      <th>ID1</th>\n",
       "      <th>MeSH ID</th>\n",
       "      <th></th>\n",
       "    </tr>\n",
       "  </thead>\n",
       "  <tbody>\n",
       "    <tr>\n",
       "      <th rowspan=\"5\" valign=\"top\">MI0000060</th>\n",
       "      <th>D000077192</th>\n",
       "      <td>2015</td>\n",
       "    </tr>\n",
       "    <tr>\n",
       "      <th>D000077195</th>\n",
       "      <td>2005</td>\n",
       "    </tr>\n",
       "    <tr>\n",
       "      <th>D000077216</th>\n",
       "      <td>2007</td>\n",
       "    </tr>\n",
       "    <tr>\n",
       "      <th>D000077273</th>\n",
       "      <td>2019</td>\n",
       "    </tr>\n",
       "    <tr>\n",
       "      <th>D000077277</th>\n",
       "      <td>2012</td>\n",
       "    </tr>\n",
       "    <tr>\n",
       "      <th>...</th>\n",
       "      <th>...</th>\n",
       "      <td>...</td>\n",
       "    </tr>\n",
       "    <tr>\n",
       "      <th>MI0039731</th>\n",
       "      <th>D013274</th>\n",
       "      <td>2021</td>\n",
       "    </tr>\n",
       "    <tr>\n",
       "      <th rowspan=\"4\" valign=\"top\">MI0039740</th>\n",
       "      <th>D000086382</th>\n",
       "      <td>2020</td>\n",
       "    </tr>\n",
       "    <tr>\n",
       "      <th>D003924</th>\n",
       "      <td>2022</td>\n",
       "    </tr>\n",
       "    <tr>\n",
       "      <th>D011225</th>\n",
       "      <td>2022</td>\n",
       "    </tr>\n",
       "    <tr>\n",
       "      <th>D024821</th>\n",
       "      <td>2021</td>\n",
       "    </tr>\n",
       "  </tbody>\n",
       "</table>\n",
       "<p>57298 rows × 1 columns</p>\n",
       "</div>"
      ],
      "text/plain": [
       "                      Year\n",
       "ID1       MeSH ID         \n",
       "MI0000060 D000077192  2015\n",
       "          D000077195  2005\n",
       "          D000077216  2007\n",
       "          D000077273  2019\n",
       "          D000077277  2012\n",
       "...                    ...\n",
       "MI0039731 D013274     2021\n",
       "MI0039740 D000086382  2020\n",
       "          D003924     2022\n",
       "          D011225     2022\n",
       "          D024821     2021\n",
       "\n",
       "[57298 rows x 1 columns]"
      ]
     },
     "execution_count": 4,
     "metadata": {},
     "output_type": "execute_result"
    }
   ],
   "source": [
    "all_posi_samples = mda.groupby(['ID1', 'MeSH ID']).agg({'Year': min})\n",
    "# all_posi_samples = all_posi_samples.reset_index()\n",
    "all_posi_samples"
   ]
  },
  {
   "cell_type": "code",
   "execution_count": 5,
   "metadata": {},
   "outputs": [],
   "source": [
    "def get_adj(posi_samples):\n",
    "\n",
    "    mirnas = pd.read_table('our_data/nodes/mirnas.tsv')\n",
    "    assert len(mirnas['Accession']) == len(mirnas['Accession'].unique())\n",
    "    diseases = pd.read_table('our_data/nodes/diseases.tsv')\n",
    "    assert len(diseases['ID']) == len(diseases['ID'].unique())\n",
    "\n",
    "    mid_adj = pd.DataFrame(\n",
    "        index=mirnas['Accession'].drop_duplicates().values,\n",
    "        columns=diseases['ID'].drop_duplicates().values\n",
    "    )\n",
    "    for mirna, disease in posi_samples.index:\n",
    "        mid_adj.loc[mirna, disease] = 1\n",
    "\n",
    "    mid_adj = mid_adj.fillna(0)\n",
    "    return mid_adj"
   ]
  },
  {
   "cell_type": "code",
   "execution_count": 6,
   "metadata": {},
   "outputs": [
    {
     "data": {
      "text/html": [
       "<div>\n",
       "<style scoped>\n",
       "    .dataframe tbody tr th:only-of-type {\n",
       "        vertical-align: middle;\n",
       "    }\n",
       "\n",
       "    .dataframe tbody tr th {\n",
       "        vertical-align: top;\n",
       "    }\n",
       "\n",
       "    .dataframe thead th {\n",
       "        text-align: right;\n",
       "    }\n",
       "</style>\n",
       "<table border=\"1\" class=\"dataframe\">\n",
       "  <thead>\n",
       "    <tr style=\"text-align: right;\">\n",
       "      <th></th>\n",
       "      <th>D000006</th>\n",
       "      <th>D000007</th>\n",
       "      <th>D000008</th>\n",
       "      <th>D000012</th>\n",
       "      <th>D000013</th>\n",
       "      <th>D000014</th>\n",
       "      <th>D000015</th>\n",
       "      <th>D000016</th>\n",
       "      <th>D000022</th>\n",
       "      <th>D000026</th>\n",
       "      <th>...</th>\n",
       "      <th>D065817</th>\n",
       "      <th>D065906</th>\n",
       "      <th>D065907</th>\n",
       "      <th>D066087</th>\n",
       "      <th>D066088</th>\n",
       "      <th>D066126</th>\n",
       "      <th>D066166</th>\n",
       "      <th>D066190</th>\n",
       "      <th>D066253</th>\n",
       "      <th>D066263</th>\n",
       "    </tr>\n",
       "  </thead>\n",
       "  <tbody>\n",
       "    <tr>\n",
       "      <th>MI0000060</th>\n",
       "      <td>0</td>\n",
       "      <td>0</td>\n",
       "      <td>0</td>\n",
       "      <td>0</td>\n",
       "      <td>0</td>\n",
       "      <td>0</td>\n",
       "      <td>0</td>\n",
       "      <td>0</td>\n",
       "      <td>0</td>\n",
       "      <td>0</td>\n",
       "      <td>...</td>\n",
       "      <td>0</td>\n",
       "      <td>0</td>\n",
       "      <td>0</td>\n",
       "      <td>0</td>\n",
       "      <td>0</td>\n",
       "      <td>0</td>\n",
       "      <td>0</td>\n",
       "      <td>0</td>\n",
       "      <td>0</td>\n",
       "      <td>0</td>\n",
       "    </tr>\n",
       "    <tr>\n",
       "      <th>MI0000061</th>\n",
       "      <td>0</td>\n",
       "      <td>0</td>\n",
       "      <td>0</td>\n",
       "      <td>0</td>\n",
       "      <td>0</td>\n",
       "      <td>0</td>\n",
       "      <td>0</td>\n",
       "      <td>0</td>\n",
       "      <td>0</td>\n",
       "      <td>0</td>\n",
       "      <td>...</td>\n",
       "      <td>0</td>\n",
       "      <td>0</td>\n",
       "      <td>0</td>\n",
       "      <td>0</td>\n",
       "      <td>0</td>\n",
       "      <td>0</td>\n",
       "      <td>0</td>\n",
       "      <td>0</td>\n",
       "      <td>0</td>\n",
       "      <td>0</td>\n",
       "    </tr>\n",
       "    <tr>\n",
       "      <th>MI0000062</th>\n",
       "      <td>0</td>\n",
       "      <td>0</td>\n",
       "      <td>0</td>\n",
       "      <td>0</td>\n",
       "      <td>0</td>\n",
       "      <td>0</td>\n",
       "      <td>0</td>\n",
       "      <td>0</td>\n",
       "      <td>0</td>\n",
       "      <td>0</td>\n",
       "      <td>...</td>\n",
       "      <td>0</td>\n",
       "      <td>0</td>\n",
       "      <td>0</td>\n",
       "      <td>0</td>\n",
       "      <td>0</td>\n",
       "      <td>0</td>\n",
       "      <td>0</td>\n",
       "      <td>0</td>\n",
       "      <td>0</td>\n",
       "      <td>0</td>\n",
       "    </tr>\n",
       "    <tr>\n",
       "      <th>MI0000063</th>\n",
       "      <td>0</td>\n",
       "      <td>0</td>\n",
       "      <td>0</td>\n",
       "      <td>0</td>\n",
       "      <td>0</td>\n",
       "      <td>0</td>\n",
       "      <td>0</td>\n",
       "      <td>0</td>\n",
       "      <td>0</td>\n",
       "      <td>0</td>\n",
       "      <td>...</td>\n",
       "      <td>0</td>\n",
       "      <td>0</td>\n",
       "      <td>0</td>\n",
       "      <td>0</td>\n",
       "      <td>0</td>\n",
       "      <td>0</td>\n",
       "      <td>0</td>\n",
       "      <td>0</td>\n",
       "      <td>0</td>\n",
       "      <td>0</td>\n",
       "    </tr>\n",
       "    <tr>\n",
       "      <th>MI0000064</th>\n",
       "      <td>0</td>\n",
       "      <td>0</td>\n",
       "      <td>0</td>\n",
       "      <td>0</td>\n",
       "      <td>0</td>\n",
       "      <td>0</td>\n",
       "      <td>0</td>\n",
       "      <td>0</td>\n",
       "      <td>0</td>\n",
       "      <td>0</td>\n",
       "      <td>...</td>\n",
       "      <td>0</td>\n",
       "      <td>0</td>\n",
       "      <td>0</td>\n",
       "      <td>0</td>\n",
       "      <td>0</td>\n",
       "      <td>0</td>\n",
       "      <td>0</td>\n",
       "      <td>0</td>\n",
       "      <td>0</td>\n",
       "      <td>0</td>\n",
       "    </tr>\n",
       "    <tr>\n",
       "      <th>...</th>\n",
       "      <td>...</td>\n",
       "      <td>...</td>\n",
       "      <td>...</td>\n",
       "      <td>...</td>\n",
       "      <td>...</td>\n",
       "      <td>...</td>\n",
       "      <td>...</td>\n",
       "      <td>...</td>\n",
       "      <td>...</td>\n",
       "      <td>...</td>\n",
       "      <td>...</td>\n",
       "      <td>...</td>\n",
       "      <td>...</td>\n",
       "      <td>...</td>\n",
       "      <td>...</td>\n",
       "      <td>...</td>\n",
       "      <td>...</td>\n",
       "      <td>...</td>\n",
       "      <td>...</td>\n",
       "      <td>...</td>\n",
       "      <td>...</td>\n",
       "    </tr>\n",
       "    <tr>\n",
       "      <th>MI0039734</th>\n",
       "      <td>0</td>\n",
       "      <td>0</td>\n",
       "      <td>0</td>\n",
       "      <td>0</td>\n",
       "      <td>0</td>\n",
       "      <td>0</td>\n",
       "      <td>0</td>\n",
       "      <td>0</td>\n",
       "      <td>0</td>\n",
       "      <td>0</td>\n",
       "      <td>...</td>\n",
       "      <td>0</td>\n",
       "      <td>0</td>\n",
       "      <td>0</td>\n",
       "      <td>0</td>\n",
       "      <td>0</td>\n",
       "      <td>0</td>\n",
       "      <td>0</td>\n",
       "      <td>0</td>\n",
       "      <td>0</td>\n",
       "      <td>0</td>\n",
       "    </tr>\n",
       "    <tr>\n",
       "      <th>MI0039735</th>\n",
       "      <td>0</td>\n",
       "      <td>0</td>\n",
       "      <td>0</td>\n",
       "      <td>0</td>\n",
       "      <td>0</td>\n",
       "      <td>0</td>\n",
       "      <td>0</td>\n",
       "      <td>0</td>\n",
       "      <td>0</td>\n",
       "      <td>0</td>\n",
       "      <td>...</td>\n",
       "      <td>0</td>\n",
       "      <td>0</td>\n",
       "      <td>0</td>\n",
       "      <td>0</td>\n",
       "      <td>0</td>\n",
       "      <td>0</td>\n",
       "      <td>0</td>\n",
       "      <td>0</td>\n",
       "      <td>0</td>\n",
       "      <td>0</td>\n",
       "    </tr>\n",
       "    <tr>\n",
       "      <th>MI0039739</th>\n",
       "      <td>0</td>\n",
       "      <td>0</td>\n",
       "      <td>0</td>\n",
       "      <td>0</td>\n",
       "      <td>0</td>\n",
       "      <td>0</td>\n",
       "      <td>0</td>\n",
       "      <td>0</td>\n",
       "      <td>0</td>\n",
       "      <td>0</td>\n",
       "      <td>...</td>\n",
       "      <td>0</td>\n",
       "      <td>0</td>\n",
       "      <td>0</td>\n",
       "      <td>0</td>\n",
       "      <td>0</td>\n",
       "      <td>0</td>\n",
       "      <td>0</td>\n",
       "      <td>0</td>\n",
       "      <td>0</td>\n",
       "      <td>0</td>\n",
       "    </tr>\n",
       "    <tr>\n",
       "      <th>MI0039740</th>\n",
       "      <td>0</td>\n",
       "      <td>0</td>\n",
       "      <td>0</td>\n",
       "      <td>0</td>\n",
       "      <td>0</td>\n",
       "      <td>0</td>\n",
       "      <td>0</td>\n",
       "      <td>0</td>\n",
       "      <td>0</td>\n",
       "      <td>0</td>\n",
       "      <td>...</td>\n",
       "      <td>0</td>\n",
       "      <td>0</td>\n",
       "      <td>0</td>\n",
       "      <td>0</td>\n",
       "      <td>0</td>\n",
       "      <td>0</td>\n",
       "      <td>0</td>\n",
       "      <td>0</td>\n",
       "      <td>0</td>\n",
       "      <td>0</td>\n",
       "    </tr>\n",
       "    <tr>\n",
       "      <th>MI0041071</th>\n",
       "      <td>0</td>\n",
       "      <td>0</td>\n",
       "      <td>0</td>\n",
       "      <td>0</td>\n",
       "      <td>0</td>\n",
       "      <td>0</td>\n",
       "      <td>0</td>\n",
       "      <td>0</td>\n",
       "      <td>0</td>\n",
       "      <td>0</td>\n",
       "      <td>...</td>\n",
       "      <td>0</td>\n",
       "      <td>0</td>\n",
       "      <td>0</td>\n",
       "      <td>0</td>\n",
       "      <td>0</td>\n",
       "      <td>0</td>\n",
       "      <td>0</td>\n",
       "      <td>0</td>\n",
       "      <td>0</td>\n",
       "      <td>0</td>\n",
       "    </tr>\n",
       "  </tbody>\n",
       "</table>\n",
       "<p>1917 rows × 4933 columns</p>\n",
       "</div>"
      ],
      "text/plain": [
       "           D000006  D000007  D000008  D000012  D000013  D000014  D000015  \\\n",
       "MI0000060        0        0        0        0        0        0        0   \n",
       "MI0000061        0        0        0        0        0        0        0   \n",
       "MI0000062        0        0        0        0        0        0        0   \n",
       "MI0000063        0        0        0        0        0        0        0   \n",
       "MI0000064        0        0        0        0        0        0        0   \n",
       "...            ...      ...      ...      ...      ...      ...      ...   \n",
       "MI0039734        0        0        0        0        0        0        0   \n",
       "MI0039735        0        0        0        0        0        0        0   \n",
       "MI0039739        0        0        0        0        0        0        0   \n",
       "MI0039740        0        0        0        0        0        0        0   \n",
       "MI0041071        0        0        0        0        0        0        0   \n",
       "\n",
       "           D000016  D000022  D000026  ...  D065817  D065906  D065907  D066087  \\\n",
       "MI0000060        0        0        0  ...        0        0        0        0   \n",
       "MI0000061        0        0        0  ...        0        0        0        0   \n",
       "MI0000062        0        0        0  ...        0        0        0        0   \n",
       "MI0000063        0        0        0  ...        0        0        0        0   \n",
       "MI0000064        0        0        0  ...        0        0        0        0   \n",
       "...            ...      ...      ...  ...      ...      ...      ...      ...   \n",
       "MI0039734        0        0        0  ...        0        0        0        0   \n",
       "MI0039735        0        0        0  ...        0        0        0        0   \n",
       "MI0039739        0        0        0  ...        0        0        0        0   \n",
       "MI0039740        0        0        0  ...        0        0        0        0   \n",
       "MI0041071        0        0        0  ...        0        0        0        0   \n",
       "\n",
       "           D066088  D066126  D066166  D066190  D066253  D066263  \n",
       "MI0000060        0        0        0        0        0        0  \n",
       "MI0000061        0        0        0        0        0        0  \n",
       "MI0000062        0        0        0        0        0        0  \n",
       "MI0000063        0        0        0        0        0        0  \n",
       "MI0000064        0        0        0        0        0        0  \n",
       "...            ...      ...      ...      ...      ...      ...  \n",
       "MI0039734        0        0        0        0        0        0  \n",
       "MI0039735        0        0        0        0        0        0  \n",
       "MI0039739        0        0        0        0        0        0  \n",
       "MI0039740        0        0        0        0        0        0  \n",
       "MI0041071        0        0        0        0        0        0  \n",
       "\n",
       "[1917 rows x 4933 columns]"
      ]
     },
     "execution_count": 6,
     "metadata": {},
     "output_type": "execute_result"
    }
   ],
   "source": [
    "mid_adj = get_adj(all_posi_samples)\n",
    "mid_adj"
   ]
  },
  {
   "cell_type": "code",
   "execution_count": 12,
   "metadata": {},
   "outputs": [
    {
     "name": "stdout",
     "output_type": "stream",
     "text": [
      "There are 1917 miRNAs in total, 1874 of which are associated with diseases\n",
      "There are 4933 diseases in total, 968 of which are associated with miRNAs\n"
     ]
    }
   ],
   "source": [
    "print('There are', mid_adj.shape[0], 'miRNAs in total,', (mid_adj.sum(axis=1) > 0).sum(), 'of which are associated with diseases')\n",
    "print('There are', mid_adj.shape[1], 'diseases in total,', (mid_adj.sum(axis=0) > 0).sum(), 'of which are associated with miRNAs')"
   ]
  },
  {
   "cell_type": "code",
   "execution_count": 13,
   "metadata": {},
   "outputs": [
    {
     "name": "stdout",
     "output_type": "stream",
     "text": [
      "How sparse the graph is: 0.0060590736949721995\n"
     ]
    }
   ],
   "source": [
    "print('How sparse the graph is:', mid_adj.sum().sum() / (mid_adj.shape[0] * mid_adj.shape[1]))"
   ]
  },
  {
   "cell_type": "code",
   "execution_count": 14,
   "metadata": {},
   "outputs": [
    {
     "name": "stdout",
     "output_type": "stream",
     "text": [
      "9399263\n"
     ]
    }
   ],
   "source": [
    "all_nega_samples = []\n",
    "for mirna, diseases in mid_adj.iterrows():\n",
    "    all_nega_samples = all_nega_samples + [(mirna, disease) for disease in diseases[diseases == 0].index.values]\n",
    "print(len(all_nega_samples))"
   ]
  },
  {
   "cell_type": "code",
   "execution_count": 15,
   "metadata": {},
   "outputs": [
    {
     "name": "stdout",
     "output_type": "stream",
     "text": [
      "9399263\n",
      "[('MI0000060', 'D000006'), ('MI0000060', 'D000007'), ('MI0000060', 'D000008'), ('MI0000060', 'D000012'), ('MI0000060', 'D000013')]\n",
      "[('MI0015901', 'D009050'), ('MI0022664', 'D007925'), ('MI0014244', 'D056486'), ('MI0036559', 'D020804'), ('MI0016090', 'D020802')]\n"
     ]
    }
   ],
   "source": [
    "all_nega_samples = [(mi, d) for mi, d in all_nega_samples]\n",
    "print(len(all_nega_samples))\n",
    "print(all_nega_samples[:5])\n",
    "random.shuffle(all_nega_samples)\n",
    "print(all_nega_samples[:5])"
   ]
  },
  {
   "cell_type": "code",
   "execution_count": 16,
   "metadata": {},
   "outputs": [],
   "source": [
    "def get_nega_samples(train_val_test, all_nega_samples):\n",
    "\n",
    "    train_posi_len = len(train_val_test['train']['posi'])\n",
    "    val_posi_len = len(train_val_test['val']['posi'])\n",
    "    test_posi_len = len(train_val_test['test']['posi'])\n",
    "\n",
    "    train_val_test['train']['nega'] = train_val_test['train']['nega'] + all_nega_samples[: train_posi_len]\n",
    "    train_val_test['val']['nega'] = train_val_test['val']['nega'] + all_nega_samples[train_posi_len: train_posi_len + val_posi_len]\n",
    "    train_val_test['test']['nega'] = train_val_test['test']['nega'] + all_nega_samples[train_posi_len + val_posi_len: train_posi_len + val_posi_len + test_posi_len * 100]\n",
    "    \n",
    "    return train_val_test"
   ]
  },
  {
   "cell_type": "code",
   "execution_count": 17,
   "metadata": {},
   "outputs": [],
   "source": [
    "train_val_test = {\n",
    "    'train': {\n",
    "        'posi': all_posi_samples[all_posi_samples['Year'] < 2019].index.to_list(),\n",
    "        'nega': []\n",
    "    },\n",
    "    'val': {\n",
    "        'posi': all_posi_samples[all_posi_samples['Year'].isin([2019, 2020])].index.to_list(),\n",
    "        'nega': []\n",
    "    },\n",
    "    'test': {\n",
    "        'posi': all_posi_samples[all_posi_samples['Year'].isin([2021, 2022])].index.to_list(),\n",
    "        'nega': []\n",
    "    }\n",
    "}\n",
    "\n",
    "train_val_test = get_nega_samples(train_val_test, all_nega_samples)"
   ]
  },
  {
   "cell_type": "code",
   "execution_count": 22,
   "metadata": {},
   "outputs": [],
   "source": [
    "# np.save('our_data/train_val_test', train_val_test)"
   ]
  },
  {
   "attachments": {},
   "cell_type": "markdown",
   "metadata": {},
   "source": [
    "## Sparse Set - 9 blocks"
   ]
  },
  {
   "cell_type": "code",
   "execution_count": 19,
   "metadata": {},
   "outputs": [
    {
     "data": {
      "text/html": [
       "<div>\n",
       "<style scoped>\n",
       "    .dataframe tbody tr th:only-of-type {\n",
       "        vertical-align: middle;\n",
       "    }\n",
       "\n",
       "    .dataframe tbody tr th {\n",
       "        vertical-align: top;\n",
       "    }\n",
       "\n",
       "    .dataframe thead th {\n",
       "        text-align: right;\n",
       "    }\n",
       "</style>\n",
       "<table border=\"1\" class=\"dataframe\">\n",
       "  <thead>\n",
       "    <tr style=\"text-align: right;\">\n",
       "      <th></th>\n",
       "      <th>Degree</th>\n",
       "    </tr>\n",
       "  </thead>\n",
       "  <tbody>\n",
       "    <tr>\n",
       "      <th>count</th>\n",
       "      <td>1857.000000</td>\n",
       "    </tr>\n",
       "    <tr>\n",
       "      <th>mean</th>\n",
       "      <td>24.910609</td>\n",
       "    </tr>\n",
       "    <tr>\n",
       "      <th>std</th>\n",
       "      <td>39.003130</td>\n",
       "    </tr>\n",
       "    <tr>\n",
       "      <th>min</th>\n",
       "      <td>1.000000</td>\n",
       "    </tr>\n",
       "    <tr>\n",
       "      <th>25%</th>\n",
       "      <td>4.000000</td>\n",
       "    </tr>\n",
       "    <tr>\n",
       "      <th>50%</th>\n",
       "      <td>8.000000</td>\n",
       "    </tr>\n",
       "    <tr>\n",
       "      <th>75%</th>\n",
       "      <td>25.000000</td>\n",
       "    </tr>\n",
       "    <tr>\n",
       "      <th>max</th>\n",
       "      <td>335.000000</td>\n",
       "    </tr>\n",
       "  </tbody>\n",
       "</table>\n",
       "</div>"
      ],
      "text/plain": [
       "            Degree\n",
       "count  1857.000000\n",
       "mean     24.910609\n",
       "std      39.003130\n",
       "min       1.000000\n",
       "25%       4.000000\n",
       "50%       8.000000\n",
       "75%      25.000000\n",
       "max     335.000000"
      ]
     },
     "execution_count": 19,
     "metadata": {},
     "output_type": "execute_result"
    }
   ],
   "source": [
    "train_mirna_degree = all_posi_samples[all_posi_samples['Year'] < 2021].groupby(['ID1']).agg('count').sort_values(by='Year', ascending=False)\n",
    "train_mirna_degree.rename(columns = {'Year': 'Degree'}, inplace = True)\n",
    "train_mirna_degree.describe()\n",
    "# 50%: 8"
   ]
  },
  {
   "cell_type": "code",
   "execution_count": 20,
   "metadata": {},
   "outputs": [
    {
     "data": {
      "text/html": [
       "<div>\n",
       "<style scoped>\n",
       "    .dataframe tbody tr th:only-of-type {\n",
       "        vertical-align: middle;\n",
       "    }\n",
       "\n",
       "    .dataframe tbody tr th {\n",
       "        vertical-align: top;\n",
       "    }\n",
       "\n",
       "    .dataframe thead th {\n",
       "        text-align: right;\n",
       "    }\n",
       "</style>\n",
       "<table border=\"1\" class=\"dataframe\">\n",
       "  <thead>\n",
       "    <tr style=\"text-align: right;\">\n",
       "      <th></th>\n",
       "      <th>Degree</th>\n",
       "    </tr>\n",
       "  </thead>\n",
       "  <tbody>\n",
       "    <tr>\n",
       "      <th>count</th>\n",
       "      <td>819.000000</td>\n",
       "    </tr>\n",
       "    <tr>\n",
       "      <th>mean</th>\n",
       "      <td>56.482295</td>\n",
       "    </tr>\n",
       "    <tr>\n",
       "      <th>std</th>\n",
       "      <td>141.665394</td>\n",
       "    </tr>\n",
       "    <tr>\n",
       "      <th>min</th>\n",
       "      <td>1.000000</td>\n",
       "    </tr>\n",
       "    <tr>\n",
       "      <th>25%</th>\n",
       "      <td>3.000000</td>\n",
       "    </tr>\n",
       "    <tr>\n",
       "      <th>50%</th>\n",
       "      <td>10.000000</td>\n",
       "    </tr>\n",
       "    <tr>\n",
       "      <th>75%</th>\n",
       "      <td>42.000000</td>\n",
       "    </tr>\n",
       "    <tr>\n",
       "      <th>max</th>\n",
       "      <td>1846.000000</td>\n",
       "    </tr>\n",
       "  </tbody>\n",
       "</table>\n",
       "</div>"
      ],
      "text/plain": [
       "            Degree\n",
       "count   819.000000\n",
       "mean     56.482295\n",
       "std     141.665394\n",
       "min       1.000000\n",
       "25%       3.000000\n",
       "50%      10.000000\n",
       "75%      42.000000\n",
       "max    1846.000000"
      ]
     },
     "execution_count": 20,
     "metadata": {},
     "output_type": "execute_result"
    }
   ],
   "source": [
    "train_disease_degree = all_posi_samples[all_posi_samples['Year'] < 2021].groupby(['MeSH ID']).agg('count').sort_values(by='Year', ascending=False)\n",
    "train_disease_degree.rename(columns = {'Year': 'Degree'}, inplace = True)\n",
    "train_disease_degree.describe()\n",
    "# 50%: 10"
   ]
  },
  {
   "cell_type": "code",
   "execution_count": 24,
   "metadata": {},
   "outputs": [
    {
     "name": "stdout",
     "output_type": "stream",
     "text": [
      "60 945 912 4114 418 401\n"
     ]
    }
   ],
   "source": [
    "mirna_zero = set(mid_adj.index) - set(train_mirna_degree.index)\n",
    "mirna_less = set(train_mirna_degree[train_mirna_degree['Degree'] <= 8].index)\n",
    "mirna_more = set(train_mirna_degree[train_mirna_degree['Degree'] > 8].index)\n",
    "disease_zero = set(mid_adj.columns) - set(train_disease_degree.index)\n",
    "disease_less = set(train_disease_degree[train_disease_degree['Degree'] <= 10].index)\n",
    "disease_more = set(train_disease_degree[train_disease_degree['Degree'] > 10].index)\n",
    "print(len(mirna_zero), len(mirna_less), len(mirna_more), len(disease_zero), len(disease_less), len(disease_more))"
   ]
  },
  {
   "cell_type": "code",
   "execution_count": 25,
   "metadata": {},
   "outputs": [],
   "source": [
    "def get_sparse_set(test_posi_samples, mirnas, diseases):\n",
    "    test_posi_samples_sparse = []\n",
    "    for mid in test_posi_samples:\n",
    "        if (mid[0] in mirnas) and (mid[1] in diseases):\n",
    "            test_posi_samples_sparse.append(True)\n",
    "        else:\n",
    "            test_posi_samples_sparse.append(False)\n",
    "    print(sum(test_posi_samples_sparse))\n",
    "    return test_posi_samples_sparse"
   ]
  },
  {
   "cell_type": "code",
   "execution_count": 26,
   "metadata": {},
   "outputs": [
    {
     "name": "stdout",
     "output_type": "stream",
     "text": [
      "0\n",
      "0\n",
      "21\n",
      "57\n",
      "1076\n",
      "133\n",
      "1564\n",
      "1312\n",
      "6876\n"
     ]
    }
   ],
   "source": [
    "test_posi_samples = all_posi_samples[all_posi_samples['Year'].isin([2021, 2022])].index.to_list()\n",
    "\n",
    "sparse_0 = get_sparse_set(test_posi_samples, mirna_zero, disease_zero)\n",
    "sparse_1 = get_sparse_set(test_posi_samples, mirna_zero, disease_less)\n",
    "sparse_2 = get_sparse_set(test_posi_samples, mirna_zero, disease_more)\n",
    "sparse_3 = get_sparse_set(test_posi_samples, mirna_less, disease_zero)\n",
    "sparse_4 = get_sparse_set(test_posi_samples, mirna_more, disease_zero)\n",
    "sparse_5 = get_sparse_set(test_posi_samples, mirna_less, disease_less)\n",
    "sparse_6 = get_sparse_set(test_posi_samples, mirna_less, disease_more)\n",
    "sparse_7 = get_sparse_set(test_posi_samples, mirna_more, disease_less)\n",
    "sparse_8 = get_sparse_set(test_posi_samples, mirna_more, disease_more)"
   ]
  },
  {
   "cell_type": "code",
   "execution_count": 27,
   "metadata": {},
   "outputs": [],
   "source": [
    "train_val_test = np.load('our_data/train_val_test.npy', allow_pickle=True).item()\n",
    "\n",
    "train_val_test['test_sparse'] = {\n",
    "    'sparse_2': sparse_2,\n",
    "    'sparse_3': sparse_3,\n",
    "    'sparse_4': sparse_4,\n",
    "    'sparse_5': sparse_5,\n",
    "    'sparse_6': sparse_6,\n",
    "    'sparse_7': sparse_7,\n",
    "    'sparse_8': sparse_8,\n",
    "}\n",
    "\n",
    "# np.save('our_data/train_val_test_with_sparse', train_val_test)"
   ]
  },
  {
   "attachments": {},
   "cell_type": "markdown",
   "metadata": {},
   "source": [
    "## Plot"
   ]
  },
  {
   "cell_type": "code",
   "execution_count": 7,
   "metadata": {},
   "outputs": [
    {
     "data": {
      "text/html": [
       "<div>\n",
       "<style scoped>\n",
       "    .dataframe tbody tr th:only-of-type {\n",
       "        vertical-align: middle;\n",
       "    }\n",
       "\n",
       "    .dataframe tbody tr th {\n",
       "        vertical-align: top;\n",
       "    }\n",
       "\n",
       "    .dataframe thead th {\n",
       "        text-align: right;\n",
       "    }\n",
       "</style>\n",
       "<table border=\"1\" class=\"dataframe\">\n",
       "  <thead>\n",
       "    <tr style=\"text-align: right;\">\n",
       "      <th></th>\n",
       "      <th>Year</th>\n",
       "    </tr>\n",
       "    <tr>\n",
       "      <th>ID1</th>\n",
       "      <th></th>\n",
       "    </tr>\n",
       "  </thead>\n",
       "  <tbody>\n",
       "    <tr>\n",
       "      <th>MI0000060</th>\n",
       "      <td>169</td>\n",
       "    </tr>\n",
       "    <tr>\n",
       "      <th>MI0000061</th>\n",
       "      <td>128</td>\n",
       "    </tr>\n",
       "    <tr>\n",
       "      <th>MI0000062</th>\n",
       "      <td>161</td>\n",
       "    </tr>\n",
       "    <tr>\n",
       "      <th>MI0000063</th>\n",
       "      <td>156</td>\n",
       "    </tr>\n",
       "    <tr>\n",
       "      <th>MI0000064</th>\n",
       "      <td>150</td>\n",
       "    </tr>\n",
       "    <tr>\n",
       "      <th>...</th>\n",
       "      <td>...</td>\n",
       "    </tr>\n",
       "    <tr>\n",
       "      <th>MI0031522</th>\n",
       "      <td>4</td>\n",
       "    </tr>\n",
       "    <tr>\n",
       "      <th>MI0033423</th>\n",
       "      <td>1</td>\n",
       "    </tr>\n",
       "    <tr>\n",
       "      <th>MI0036559</th>\n",
       "      <td>1</td>\n",
       "    </tr>\n",
       "    <tr>\n",
       "      <th>MI0039718</th>\n",
       "      <td>1</td>\n",
       "    </tr>\n",
       "    <tr>\n",
       "      <th>MI0039740</th>\n",
       "      <td>1</td>\n",
       "    </tr>\n",
       "  </tbody>\n",
       "</table>\n",
       "<p>1857 rows × 1 columns</p>\n",
       "</div>"
      ],
      "text/plain": [
       "           Year\n",
       "ID1            \n",
       "MI0000060   169\n",
       "MI0000061   128\n",
       "MI0000062   161\n",
       "MI0000063   156\n",
       "MI0000064   150\n",
       "...         ...\n",
       "MI0031522     4\n",
       "MI0033423     1\n",
       "MI0036559     1\n",
       "MI0039718     1\n",
       "MI0039740     1\n",
       "\n",
       "[1857 rows x 1 columns]"
      ]
     },
     "execution_count": 7,
     "metadata": {},
     "output_type": "execute_result"
    }
   ],
   "source": [
    "all_posi_samples[all_posi_samples['Year'] < 2021].groupby(['ID1']).agg('count')"
   ]
  },
  {
   "cell_type": "code",
   "execution_count": 8,
   "metadata": {},
   "outputs": [],
   "source": [
    "def get_mirna_disease_index(mirna_id, disease_id, posi_samples):\n",
    "    \n",
    "    mid_df = pd.DataFrame({\n",
    "        'mirna': [tmp_sample[0] for tmp_sample in posi_samples],\n",
    "        'disease': [tmp_sample[1] for tmp_sample in posi_samples]\n",
    "    })\n",
    "    \n",
    "    mirna_index = pd.merge(mid_df['mirna'], mirna_id, left_on='mirna', right_on='mirna_id', how='left')['mapped_index'].values\n",
    "    disease_index = pd.merge(mid_df['disease'], disease_id, left_on='disease', right_on='disease_id', how='left')['mapped_index'].values\n",
    "    \n",
    "    return mirna_index, disease_index"
   ]
  },
  {
   "cell_type": "code",
   "execution_count": 16,
   "metadata": {},
   "outputs": [],
   "source": [
    "def plot_train_val_test(all_posi_samples, train_posi_samples, val_posi_samples, test_posi_samples):\n",
    "    \n",
    "    mirna_ids = pd.read_table('../data/our_data/nodes/mirnas.tsv')['Accession']\n",
    "    train_val_mirna_degree = all_posi_samples[all_posi_samples['Year'] < 2021].groupby(['ID1']).agg('count').sort_values('Year', ascending=False)\n",
    "    train_val_mirna_degree.rename(columns = {'Year': 'Degree'}, inplace = True)\n",
    "    mirna_ids = train_val_mirna_degree.index.to_list() + list(set(mirna_ids.to_list()) - set(train_val_mirna_degree.index))\n",
    "    mirna_id = pd.DataFrame(data={\n",
    "        'mirna_id': mirna_ids,\n",
    "        'mapped_index': pd.RangeIndex(len(mirna_ids))\n",
    "    })\n",
    "\n",
    "    disease_ids = pd.read_table('../data/our_data/nodes/diseases.tsv')['ID']\n",
    "    train_val_disease_degree = all_posi_samples[all_posi_samples['Year'] < 2021].groupby(['MeSH ID']).agg('count').sort_values('Year', ascending=False)\n",
    "    train_val_disease_degree.rename(columns = {'Year': 'Degree'}, inplace = True)\n",
    "    disease_ids = train_val_disease_degree.index.to_list() + list(set(disease_ids.to_list()) - set(train_val_disease_degree.index))\n",
    "    disease_id = pd.DataFrame(data={\n",
    "        'disease_id': disease_ids,\n",
    "        'mapped_index': pd.RangeIndex(len(disease_ids))\n",
    "    })\n",
    "\n",
    "    train_mirna_index, train_disease_index = get_mirna_disease_index(mirna_id, disease_id, train_posi_samples)\n",
    "    val_mirna_index, val_disease_index = get_mirna_disease_index(mirna_id, disease_id, val_posi_samples)\n",
    "    test_mirna_index, test_disease_index = get_mirna_disease_index(mirna_id, disease_id, test_posi_samples)\n",
    "    \n",
    "    print(len(train_mirna_index), len(val_mirna_index), len(test_mirna_index))\n",
    "\n",
    "    # plt.figure(figsize=(len(disease_ids) / 100, len(mirna_ids) / 100), dpi=600)\n",
    "    plt.figure(figsize=(len(disease_ids) / 100, len(mirna_ids) / 100))\n",
    "    plt.axis([0, len(disease_ids), 0, len(mirna_ids)])\n",
    "    # Train: Green\n",
    "    # plt.scatter(train_disease_index, train_mirna_index, c='g', s=2)\n",
    "    # Validation: Yellow\n",
    "    # plt.scatter(val_disease_index, val_mirna_index, c='y', s=2)\n",
    "    # Test: Blue\n",
    "    plt.scatter(test_disease_index, test_mirna_index, c='b', s=2)\n",
    "\n",
    "    hline_0 = len(train_val_mirna_degree.index)\n",
    "    hline_m = len(train_val_mirna_degree[train_val_mirna_degree['Degree'] > 8].index)\n",
    "    v_top = len(disease_ids)\n",
    "    plt.hlines(hline_0, 0, v_top, colors='black')\n",
    "    plt.hlines(hline_m, 0, v_top, colors='black')\n",
    "    vline_0 = len(train_val_disease_degree.index)\n",
    "    vline_m = len(train_val_disease_degree[train_val_disease_degree['Degree'] > 10].index)\n",
    "    h_top = len(mirna_ids)\n",
    "    plt.vlines(vline_0, 0, h_top, colors='black')\n",
    "    plt.vlines(vline_m, 0, h_top, colors='black')\n",
    "\n",
    "    font_text = {\n",
    "        'family' : 'Times New Roman',\n",
    "        'weight' : 'normal',\n",
    "        'size' : 28\n",
    "    }\n",
    "\n",
    "    plt.text((0 + vline_m) / 2, (hline_0 + h_top) / 2, '0-M: 21', fontdict=font_text, ha='center', va='center')\n",
    "    plt.text((0 + vline_m) / 2, (hline_m + hline_0) / 2, 'L-M: 1564', fontdict=font_text, ha='center', va='center')\n",
    "    plt.text((0 + vline_m) / 2, (0 + hline_m) / 2, 'M-M: 6876', fontdict=font_text, ha='center', va='center')\n",
    "\n",
    "    plt.text((vline_m + vline_0) / 2, (hline_0 + h_top) / 2, '0-L: 0', fontdict=font_text, ha='center', va='center')\n",
    "    plt.text((vline_m + vline_0) / 2, (hline_m + hline_0) / 2, 'L-L: 133', fontdict=font_text, ha='center', va='center')\n",
    "    plt.text((vline_m + vline_0) / 2, (0 + hline_m) / 2, 'M-L: 1312', fontdict=font_text, ha='center', va='center')\n",
    "    \n",
    "    plt.text((vline_0 + v_top) / 2, (hline_0 + h_top) / 2, '0-0: 0', fontdict=font_text, ha='center', va='center')\n",
    "    plt.text((vline_0 + v_top) / 2, (hline_m + hline_0) / 2, 'L-0: 57', fontdict=font_text, ha='center', va='center')\n",
    "    plt.text((vline_0 + v_top) / 2, (0 + hline_m) / 2, 'M-0: 1076', fontdict=font_text, ha='center', va='center')\n",
    "\n",
    "    plt.text((0 + vline_m) / 2, h_top + 20, 'Diseases\\nMore Known', fontdict=font_text, ha='center', va='bottom')\n",
    "    plt.text((vline_m + vline_0) / 2, h_top + 20, 'Diseases\\nLess Known', fontdict=font_text, ha='center', va='bottom')\n",
    "    plt.text((vline_0 + v_top) / 2, h_top + 20, 'Diseases\\nZero Known', fontdict=font_text, ha='center', va='bottom')\n",
    "\n",
    "    plt.text(v_top + 20, (hline_0 + h_top) / 2, 'MiRNAs\\nZero Known', fontdict=font_text, ha='left', va='center')\n",
    "    plt.text(v_top + 20, (hline_m + hline_0) / 2, 'MiRNAs\\nLess Known', fontdict=font_text, ha='left', va='center')\n",
    "    plt.text(v_top + 20, (0 + hline_m) / 2, 'MiRNAs\\nMore Known', fontdict=font_text, ha='left', va='center')\n",
    "\n",
    "    font_label = {\n",
    "        'family' : 'Times New Roman',\n",
    "        'weight' : 'normal',\n",
    "        'size' : 36\n",
    "    }\n",
    "    plt.xlabel('Diseases', font_label)\n",
    "    plt.ylabel('MiRNAs', font_label)\n",
    "    # plt.legend(['Training samples', 'Validation samples', 'Test samples'], loc='upper right', prop=font_label, markerscale=10)\n",
    "    # plt.legend(['Training samples', 'Validation samples'], loc='upper right', prop=font_label, markerscale=10)\n",
    "    plt.legend(['Test samples'], loc='upper right', prop=font_label, markerscale=10)\n",
    "\n",
    "    plt.show()"
   ]
  },
  {
   "cell_type": "code",
   "execution_count": 10,
   "metadata": {},
   "outputs": [],
   "source": [
    "train_val_test = np.load('our_data/train_val_test_with_9block_test_sparse.npy', allow_pickle=True).item()"
   ]
  },
  {
   "cell_type": "code",
   "execution_count": 17,
   "metadata": {},
   "outputs": [
    {
     "name": "stdout",
     "output_type": "stream",
     "text": [
      "39991 6268 11039\n"
     ]
    },
    {
     "data": {
      "image/png": "[encoded data removed]",
      "text/plain": [
       "<Figure size 3551.76x1380.24 with 1 Axes>"
      ]
     },
     "metadata": {
      "needs_background": "light"
     },
     "output_type": "display_data"
    }
   ],
   "source": [
    "train_posi_samples = train_val_test['train']['posi']\n",
    "val_posi_samples = train_val_test['val']['posi']\n",
    "test_posi_samples = train_val_test['test']['posi']\n",
    "plot_train_val_test(all_posi_samples, train_posi_samples, val_posi_samples, test_posi_samples)"
   ]
  },
  {
   "attachments": {},
   "cell_type": "markdown",
   "metadata": {
    "jp-MarkdownHeadingCollapsed": true,
    "tags": []
   },
   "source": [
    "# Graph (NetworkX)"
   ]
  },
  {
   "cell_type": "code",
   "execution_count": 2,
   "metadata": {},
   "outputs": [
    {
     "name": "stdout",
     "output_type": "stream",
     "text": [
      "6850\n"
     ]
    }
   ],
   "source": [
    "node_list = []\n",
    "\n",
    "mirnas_df = pd.read_table('our_data/nodes/mirnas.tsv')\n",
    "assert len(mirnas_df['Accession']) == len(mirnas_df['Accession'].unique())\n",
    "node_list = node_list + mirnas_df['Accession'].values.tolist()\n",
    "\n",
    "diseases_df = pd.read_table('our_data/nodes/diseases.tsv')\n",
    "assert len(diseases_df['ID']) == len(diseases_df['ID'].unique())\n",
    "node_list = node_list + diseases_df['ID'].values.tolist()\n",
    "\n",
    "print(len(node_list))"
   ]
  },
  {
   "cell_type": "code",
   "execution_count": 3,
   "metadata": {},
   "outputs": [
    {
     "name": "stdout",
     "output_type": "stream",
     "text": [
      "12178\n"
     ]
    }
   ],
   "source": [
    "edge_list = []\n",
    "\n",
    "mirna_mirna_df = pd.read_table('our_data/edges/families_pri_mirna_pri_mirna.tsv').drop_duplicates()\n",
    "mirna_mirna_df = mirna_mirna_df[(mirna_mirna_df['ID1'].isin(mirnas_df['Accession'])) & (mirna_mirna_df['ID2'].isin(mirnas_df['Accession']))]\n",
    "edge_list = edge_list + [(edge[0], edge[1]) for edge in mirna_mirna_df.values]\n",
    "\n",
    "disease_disease_df = pd.read_table('our_data/edges/disease_disease.tsv')[['ID1', 'ID2']].drop_duplicates()\n",
    "edge_list = edge_list + [(edge[0], edge[1]) for edge in disease_disease_df.values]\n",
    "\n",
    "print(len(edge_list))"
   ]
  },
  {
   "cell_type": "code",
   "execution_count": 4,
   "metadata": {},
   "outputs": [
    {
     "name": "stdout",
     "output_type": "stream",
     "text": [
      "6850\n",
      "12178\n"
     ]
    }
   ],
   "source": [
    "G = nx.Graph()\n",
    "G.add_nodes_from(node_list)\n",
    "G.add_edges_from(edge_list)\n",
    "\n",
    "print(G.number_of_nodes())\n",
    "print(G.number_of_edges())"
   ]
  },
  {
   "cell_type": "code",
   "execution_count": 5,
   "metadata": {},
   "outputs": [],
   "source": [
    "# nx.write_adjlist(G, 'our_data/data_without_mrna_and_mid_nx.adjlist')"
   ]
  },
  {
   "cell_type": "code",
   "execution_count": 5,
   "metadata": {},
   "outputs": [],
   "source": [
    "# mrnas: nodes and edges\n",
    "\n",
    "node_list = []\n",
    "\n",
    "mrnas_df = pd.read_table('our_data/nodes/mrnas.tsv')\n",
    "assert len(mrnas_df['ID']) == len(mrnas_df['ID'].unique())\n",
    "node_list = node_list + mrnas_df['ID'].values.tolist()\n",
    "\n",
    "G.add_nodes_from(node_list)\n",
    "\n",
    "edge_list = []\n",
    "\n",
    "# There are some circles in mrna-mrna edges, like (ID1 123, ID2 321) and (ID1 321, ID2 123).\n",
    "# But the networkx graph type Graph(), which is undirected and does not allow parallel edges, it will filter out these circles automatically.\n",
    "mrna_mrna_df = pd.read_table('our_data/edges/groups_mrna_mrna.tsv').drop_duplicates()\n",
    "edge_list = edge_list + [(edge[0], edge[1]) for edge in mrna_mrna_df.values]\n",
    "\n",
    "mirna_mrna_df = pd.read_table('our_data/edges/mirna_mrna_encori_degradome.tsv')[['ID1', 'geneEntrezID']].drop_duplicates()\n",
    "edge_list = edge_list + [(edge[0], edge[1]) for edge in mirna_mrna_df.values]\n",
    "\n",
    "mrna_disease_df = pd.read_table('our_data/edges/mrna_disease_disgenet.tsv')[['geneId', 'code']].drop_duplicates()\n",
    "edge_list = edge_list + [(edge[0], edge[1]) for edge in mrna_disease_df.values]\n",
    "\n",
    "G.add_edges_from(edge_list)"
   ]
  },
  {
   "cell_type": "code",
   "execution_count": 6,
   "metadata": {},
   "outputs": [
    {
     "name": "stdout",
     "output_type": "stream",
     "text": [
      "26079\n",
      "1511183\n"
     ]
    }
   ],
   "source": [
    "G.add_nodes_from(node_list)\n",
    "G.add_edges_from(edge_list)\n",
    "\n",
    "print(G.number_of_nodes())\n",
    "print(G.number_of_edges())"
   ]
  },
  {
   "cell_type": "code",
   "execution_count": 8,
   "metadata": {},
   "outputs": [],
   "source": [
    "# nx.write_adjlist(G, 'our_data/data_without_mid_nx.adjlist')"
   ]
  },
  {
   "attachments": {},
   "cell_type": "markdown",
   "metadata": {
    "tags": []
   },
   "source": [
    "# Graph Structure Observation"
   ]
  },
  {
   "cell_type": "code",
   "execution_count": 16,
   "metadata": {},
   "outputs": [],
   "source": [
    "def get_graph_nx(graph_path, tvt_path):\n",
    "    \n",
    "    G = nx.read_adjlist(graph_path)\n",
    "    \n",
    "    train_val_test = np.load(tvt_path, allow_pickle=True).item()\n",
    "    G.add_edges_from(train_val_test['train']['posi'] + train_val_test['val']['posi'] + train_val_test['test']['posi'])\n",
    "    \n",
    "    posi_samples = train_val_test['train']['posi'] + train_val_test['val']['posi'] + train_val_test['test']['posi']\n",
    "    nega_samples = train_val_test['train']['nega'] + train_val_test['val']['nega'] + train_val_test['test']['nega'][:len(train_val_test['test']['posi'])]\n",
    "    \n",
    "    return G, posi_samples, nega_samples"
   ]
  },
  {
   "cell_type": "code",
   "execution_count": 17,
   "metadata": {
    "tags": []
   },
   "outputs": [],
   "source": [
    "def get_node_type(node_id):\n",
    "    \n",
    "    if node_id.isdigit():\n",
    "        return 'mrna'\n",
    "    elif node_id[:2] == 'MI':\n",
    "        return 'mirna'\n",
    "    elif node_id[:1] == 'D':\n",
    "        return 'disease'\n",
    "    else:\n",
    "        print('Wrong ID!')"
   ]
  },
  {
   "cell_type": "code",
   "execution_count": 24,
   "metadata": {},
   "outputs": [],
   "source": [
    "paths = {\n",
    "    'graph_without_mid': 'our_data/data_without_mid_nx.adjlist',\n",
    "    'graph_without_mrna_and_mid': 'our_data/data_without_mrna_and_mid_nx.adjlist',\n",
    "    'train_val_test': 'our_data/train_val_test_with_sparse.npy'\n",
    "}"
   ]
  },
  {
   "attachments": {},
   "cell_type": "markdown",
   "metadata": {
    "tags": []
   },
   "source": [
    "## Shared Neighbors (Jaccard)  \n",
    "\n",
    "Obviously, miRNA-disease pairs with verified associations have more shared neighbors.  \n",
    "The design of our method is driven by such an observation."
   ]
  },
  {
   "cell_type": "code",
   "execution_count": 64,
   "metadata": {},
   "outputs": [],
   "source": [
    "def get_jaccard_score(a, b):\n",
    "    \n",
    "    if (len(a) == 0) & (len(b) == 0):\n",
    "        return np.nan\n",
    "    \n",
    "    return len(a & b) / len(a | b)"
   ]
  },
  {
   "cell_type": "code",
   "execution_count": 65,
   "metadata": {},
   "outputs": [],
   "source": [
    "def get_neighbor_info(G, shared_type, mi_id, d_id):\n",
    "    \n",
    "    mi_neighbors = set()\n",
    "    d_neighbors = set()\n",
    "    if shared_type == 'all':\n",
    "        mi_neighbors = mi_neighbors | set(G.neighbors(mi_id))\n",
    "        d_neighbors = d_neighbors | set(G.neighbors(d_id))\n",
    "    else:\n",
    "        for neighbor in G.neighbors(mi_id):\n",
    "            if shared_type == 'mrna':\n",
    "                if get_node_type(neighbor) == 'mrna':\n",
    "                    mi_neighbors.add(neighbor)\n",
    "            elif shared_type == 'mirna':\n",
    "                if get_node_type(neighbor) == 'mirna':\n",
    "                    mi_neighbors.add(neighbor)\n",
    "            elif shared_type == 'disease':\n",
    "                if get_node_type(neighbor) == 'disease':\n",
    "                    mi_neighbors.add(neighbor)\n",
    "        for neighbor in G.neighbors(d_id):\n",
    "            if shared_type == 'mrna':\n",
    "                if get_node_type(neighbor) == 'mrna':\n",
    "                    d_neighbors.add(neighbor)\n",
    "            elif shared_type == 'mirna':\n",
    "                if get_node_type(neighbor) == 'mirna':\n",
    "                    d_neighbors.add(neighbor)\n",
    "            elif shared_type == 'disease':\n",
    "                if get_node_type(neighbor) == 'disease':\n",
    "                    d_neighbors.add(neighbor)\n",
    "    \n",
    "    return len(mi_neighbors & d_neighbors), get_jaccard_score(mi_neighbors, d_neighbors)"
   ]
  },
  {
   "cell_type": "code",
   "execution_count": 66,
   "metadata": {},
   "outputs": [],
   "source": [
    "def get_conclusion_df(G, shared_type, samples):\n",
    "    \n",
    "    intersection_num, jaccard_score = [], []\n",
    "    \n",
    "    for mirna, disease in samples:\n",
    "        num, score = get_neighbor_info(G, shared_type, mirna, disease)\n",
    "        intersection_num.append(num)\n",
    "        jaccard_score.append(score)\n",
    "\n",
    "    return pd.DataFrame({\n",
    "        'intersection_num': intersection_num,\n",
    "        'jaccard_score': jaccard_score\n",
    "    }, index=samples)"
   ]
  },
  {
   "cell_type": "code",
   "execution_count": 67,
   "metadata": {},
   "outputs": [],
   "source": [
    "def get_jaccard_distribution(df, partitions):\n",
    "    \n",
    "    df_len = len(df)\n",
    "    distributions = [(df.isna()).sum() / df_len, (df == 0).sum() / df_len, ((df > 0) & (df <= partitions[0])).sum() / df_len]\n",
    "    \n",
    "    for i in range(len(partitions) - 1):\n",
    "        distributions.append(((df > partitions[i]) & (df <= partitions[i + 1])).sum() / df_len)\n",
    "    \n",
    "    distributions.append((df > partitions[-1]).sum() / df_len)\n",
    "    \n",
    "    return distributions"
   ]
  },
  {
   "cell_type": "code",
   "execution_count": 68,
   "metadata": {},
   "outputs": [],
   "source": [
    "G, posi_samples, nega_samples = get_graph_nx(paths['graph_without_mid'], paths['train_val_test'])"
   ]
  },
  {
   "cell_type": "code",
   "execution_count": 72,
   "metadata": {},
   "outputs": [],
   "source": [
    "partitions = [0.1, 0.2]"
   ]
  },
  {
   "cell_type": "code",
   "execution_count": 74,
   "metadata": {},
   "outputs": [
    {
     "name": "stdout",
     "output_type": "stream",
     "text": [
      "==========\n",
      "MiRNA, Positive:\n"
     ]
    },
    {
     "data": {
      "text/html": [
       "<div>\n",
       "<style scoped>\n",
       "    .dataframe tbody tr th:only-of-type {\n",
       "        vertical-align: middle;\n",
       "    }\n",
       "\n",
       "    .dataframe tbody tr th {\n",
       "        vertical-align: top;\n",
       "    }\n",
       "\n",
       "    .dataframe thead th {\n",
       "        text-align: right;\n",
       "    }\n",
       "</style>\n",
       "<table border=\"1\" class=\"dataframe\">\n",
       "  <thead>\n",
       "    <tr style=\"text-align: right;\">\n",
       "      <th></th>\n",
       "      <th>intersection_num</th>\n",
       "      <th>jaccard_score</th>\n",
       "    </tr>\n",
       "  </thead>\n",
       "  <tbody>\n",
       "    <tr>\n",
       "      <th>count</th>\n",
       "      <td>57298.000000</td>\n",
       "      <td>57298.000000</td>\n",
       "    </tr>\n",
       "    <tr>\n",
       "      <th>mean</th>\n",
       "      <td>2.152361</td>\n",
       "      <td>0.012311</td>\n",
       "    </tr>\n",
       "    <tr>\n",
       "      <th>std</th>\n",
       "      <td>5.378281</td>\n",
       "      <td>0.039043</td>\n",
       "    </tr>\n",
       "    <tr>\n",
       "      <th>min</th>\n",
       "      <td>0.000000</td>\n",
       "      <td>0.000000</td>\n",
       "    </tr>\n",
       "    <tr>\n",
       "      <th>25%</th>\n",
       "      <td>0.000000</td>\n",
       "      <td>0.000000</td>\n",
       "    </tr>\n",
       "    <tr>\n",
       "      <th>50%</th>\n",
       "      <td>0.000000</td>\n",
       "      <td>0.000000</td>\n",
       "    </tr>\n",
       "    <tr>\n",
       "      <th>75%</th>\n",
       "      <td>2.000000</td>\n",
       "      <td>0.010638</td>\n",
       "    </tr>\n",
       "    <tr>\n",
       "      <th>max</th>\n",
       "      <td>69.000000</td>\n",
       "      <td>0.916667</td>\n",
       "    </tr>\n",
       "  </tbody>\n",
       "</table>\n",
       "</div>"
      ],
      "text/plain": [
       "       intersection_num  jaccard_score\n",
       "count      57298.000000   57298.000000\n",
       "mean           2.152361       0.012311\n",
       "std            5.378281       0.039043\n",
       "min            0.000000       0.000000\n",
       "25%            0.000000       0.000000\n",
       "50%            0.000000       0.000000\n",
       "75%            2.000000       0.010638\n",
       "max           69.000000       0.916667"
      ]
     },
     "metadata": {},
     "output_type": "display_data"
    },
    {
     "name": "stdout",
     "output_type": "stream",
     "text": [
      "Jaccard Distribution: [0.0, 0.53878, 0.44207, 0.01309, 0.00606]\n",
      "==========\n",
      "MiRNA, Negative:\n"
     ]
    },
    {
     "data": {
      "text/html": [
       "<div>\n",
       "<style scoped>\n",
       "    .dataframe tbody tr th:only-of-type {\n",
       "        vertical-align: middle;\n",
       "    }\n",
       "\n",
       "    .dataframe tbody tr th {\n",
       "        vertical-align: top;\n",
       "    }\n",
       "\n",
       "    .dataframe thead th {\n",
       "        text-align: right;\n",
       "    }\n",
       "</style>\n",
       "<table border=\"1\" class=\"dataframe\">\n",
       "  <thead>\n",
       "    <tr style=\"text-align: right;\">\n",
       "      <th></th>\n",
       "      <th>intersection_num</th>\n",
       "      <th>jaccard_score</th>\n",
       "    </tr>\n",
       "  </thead>\n",
       "  <tbody>\n",
       "    <tr>\n",
       "      <th>count</th>\n",
       "      <td>57298.000000</td>\n",
       "      <td>24803.000000</td>\n",
       "    </tr>\n",
       "    <tr>\n",
       "      <th>mean</th>\n",
       "      <td>0.016964</td>\n",
       "      <td>0.000299</td>\n",
       "    </tr>\n",
       "    <tr>\n",
       "      <th>std</th>\n",
       "      <td>0.454301</td>\n",
       "      <td>0.004870</td>\n",
       "    </tr>\n",
       "    <tr>\n",
       "      <th>min</th>\n",
       "      <td>0.000000</td>\n",
       "      <td>0.000000</td>\n",
       "    </tr>\n",
       "    <tr>\n",
       "      <th>25%</th>\n",
       "      <td>0.000000</td>\n",
       "      <td>0.000000</td>\n",
       "    </tr>\n",
       "    <tr>\n",
       "      <th>50%</th>\n",
       "      <td>0.000000</td>\n",
       "      <td>0.000000</td>\n",
       "    </tr>\n",
       "    <tr>\n",
       "      <th>75%</th>\n",
       "      <td>0.000000</td>\n",
       "      <td>0.000000</td>\n",
       "    </tr>\n",
       "    <tr>\n",
       "      <th>max</th>\n",
       "      <td>34.000000</td>\n",
       "      <td>0.333333</td>\n",
       "    </tr>\n",
       "  </tbody>\n",
       "</table>\n",
       "</div>"
      ],
      "text/plain": [
       "       intersection_num  jaccard_score\n",
       "count      57298.000000   24803.000000\n",
       "mean           0.016964       0.000299\n",
       "std            0.454301       0.004870\n",
       "min            0.000000       0.000000\n",
       "25%            0.000000       0.000000\n",
       "50%            0.000000       0.000000\n",
       "75%            0.000000       0.000000\n",
       "max           34.000000       0.333333"
      ]
     },
     "metadata": {},
     "output_type": "display_data"
    },
    {
     "name": "stdout",
     "output_type": "stream",
     "text": [
      "Jaccard Distribution: [0.56712, 0.42858, 0.00414, 0.00012, 3e-05]\n"
     ]
    }
   ],
   "source": [
    "print('==========')\n",
    "\n",
    "mirnas_posi = get_conclusion_df(G, 'mirna', posi_samples)\n",
    "print('MiRNA, Positive:')\n",
    "display(mirnas_posi.describe())\n",
    "print('Jaccard Distribution:', [round(i, 5) for i in get_jaccard_distribution(mirnas_posi['jaccard_score'], partitions)])\n",
    "\n",
    "print('==========')\n",
    "\n",
    "mirnas_nega = get_conclusion_df(G, 'mirna', nega_samples)\n",
    "print('MiRNA, Negative:')\n",
    "display(mirnas_nega.describe())\n",
    "print('Jaccard Distribution:', [round(i, 5) for i in get_jaccard_distribution(mirnas_nega['jaccard_score'], partitions)])"
   ]
  },
  {
   "cell_type": "code",
   "execution_count": 75,
   "metadata": {},
   "outputs": [
    {
     "name": "stdout",
     "output_type": "stream",
     "text": [
      "==========\n",
      "Disease, Positive:\n"
     ]
    },
    {
     "data": {
      "text/html": [
       "<div>\n",
       "<style scoped>\n",
       "    .dataframe tbody tr th:only-of-type {\n",
       "        vertical-align: middle;\n",
       "    }\n",
       "\n",
       "    .dataframe tbody tr th {\n",
       "        vertical-align: top;\n",
       "    }\n",
       "\n",
       "    .dataframe thead th {\n",
       "        text-align: right;\n",
       "    }\n",
       "</style>\n",
       "<table border=\"1\" class=\"dataframe\">\n",
       "  <thead>\n",
       "    <tr style=\"text-align: right;\">\n",
       "      <th></th>\n",
       "      <th>intersection_num</th>\n",
       "      <th>jaccard_score</th>\n",
       "    </tr>\n",
       "  </thead>\n",
       "  <tbody>\n",
       "    <tr>\n",
       "      <th>count</th>\n",
       "      <td>57298.000000</td>\n",
       "      <td>57298.000000</td>\n",
       "    </tr>\n",
       "    <tr>\n",
       "      <th>mean</th>\n",
       "      <td>0.513910</td>\n",
       "      <td>0.005691</td>\n",
       "    </tr>\n",
       "    <tr>\n",
       "      <th>std</th>\n",
       "      <td>0.850763</td>\n",
       "      <td>0.012076</td>\n",
       "    </tr>\n",
       "    <tr>\n",
       "      <th>min</th>\n",
       "      <td>0.000000</td>\n",
       "      <td>0.000000</td>\n",
       "    </tr>\n",
       "    <tr>\n",
       "      <th>25%</th>\n",
       "      <td>0.000000</td>\n",
       "      <td>0.000000</td>\n",
       "    </tr>\n",
       "    <tr>\n",
       "      <th>50%</th>\n",
       "      <td>0.000000</td>\n",
       "      <td>0.000000</td>\n",
       "    </tr>\n",
       "    <tr>\n",
       "      <th>75%</th>\n",
       "      <td>1.000000</td>\n",
       "      <td>0.007042</td>\n",
       "    </tr>\n",
       "    <tr>\n",
       "      <th>max</th>\n",
       "      <td>11.000000</td>\n",
       "      <td>0.250000</td>\n",
       "    </tr>\n",
       "  </tbody>\n",
       "</table>\n",
       "</div>"
      ],
      "text/plain": [
       "       intersection_num  jaccard_score\n",
       "count      57298.000000   57298.000000\n",
       "mean           0.513910       0.005691\n",
       "std            0.850763       0.012076\n",
       "min            0.000000       0.000000\n",
       "25%            0.000000       0.000000\n",
       "50%            0.000000       0.000000\n",
       "75%            1.000000       0.007042\n",
       "max           11.000000       0.250000"
      ]
     },
     "metadata": {},
     "output_type": "display_data"
    },
    {
     "name": "stdout",
     "output_type": "stream",
     "text": [
      "Jaccard Distribution: [0.0, 0.63175, 0.36694, 0.00129, 2e-05]\n",
      "==========\n",
      "Disease, Negative:\n"
     ]
    },
    {
     "data": {
      "text/html": [
       "<div>\n",
       "<style scoped>\n",
       "    .dataframe tbody tr th:only-of-type {\n",
       "        vertical-align: middle;\n",
       "    }\n",
       "\n",
       "    .dataframe tbody tr th {\n",
       "        vertical-align: top;\n",
       "    }\n",
       "\n",
       "    .dataframe thead th {\n",
       "        text-align: right;\n",
       "    }\n",
       "</style>\n",
       "<table border=\"1\" class=\"dataframe\">\n",
       "  <thead>\n",
       "    <tr style=\"text-align: right;\">\n",
       "      <th></th>\n",
       "      <th>intersection_num</th>\n",
       "      <th>jaccard_score</th>\n",
       "    </tr>\n",
       "  </thead>\n",
       "  <tbody>\n",
       "    <tr>\n",
       "      <th>count</th>\n",
       "      <td>57298.000000</td>\n",
       "      <td>57298.000000</td>\n",
       "    </tr>\n",
       "    <tr>\n",
       "      <th>mean</th>\n",
       "      <td>0.023788</td>\n",
       "      <td>0.000561</td>\n",
       "    </tr>\n",
       "    <tr>\n",
       "      <th>std</th>\n",
       "      <td>0.168489</td>\n",
       "      <td>0.006167</td>\n",
       "    </tr>\n",
       "    <tr>\n",
       "      <th>min</th>\n",
       "      <td>0.000000</td>\n",
       "      <td>0.000000</td>\n",
       "    </tr>\n",
       "    <tr>\n",
       "      <th>25%</th>\n",
       "      <td>0.000000</td>\n",
       "      <td>0.000000</td>\n",
       "    </tr>\n",
       "    <tr>\n",
       "      <th>50%</th>\n",
       "      <td>0.000000</td>\n",
       "      <td>0.000000</td>\n",
       "    </tr>\n",
       "    <tr>\n",
       "      <th>75%</th>\n",
       "      <td>0.000000</td>\n",
       "      <td>0.000000</td>\n",
       "    </tr>\n",
       "    <tr>\n",
       "      <th>max</th>\n",
       "      <td>4.000000</td>\n",
       "      <td>0.333333</td>\n",
       "    </tr>\n",
       "  </tbody>\n",
       "</table>\n",
       "</div>"
      ],
      "text/plain": [
       "       intersection_num  jaccard_score\n",
       "count      57298.000000   57298.000000\n",
       "mean           0.023788       0.000561\n",
       "std            0.168489       0.006167\n",
       "min            0.000000       0.000000\n",
       "25%            0.000000       0.000000\n",
       "50%            0.000000       0.000000\n",
       "75%            0.000000       0.000000\n",
       "max            4.000000       0.333333"
      ]
     },
     "metadata": {},
     "output_type": "display_data"
    },
    {
     "name": "stdout",
     "output_type": "stream",
     "text": [
      "Jaccard Distribution: [0.0, 0.97836, 0.02114, 0.0004, 0.0001]\n"
     ]
    }
   ],
   "source": [
    "print('==========')\n",
    "\n",
    "diseases_posi = get_conclusion_df(G, 'disease', posi_samples)\n",
    "print('Disease, Positive:')\n",
    "display(diseases_posi.describe())\n",
    "print('Jaccard Distribution:', [round(i, 5) for i in get_jaccard_distribution(diseases_posi['jaccard_score'], partitions)])\n",
    "\n",
    "print('==========')\n",
    "\n",
    "diseases_nega = get_conclusion_df(G, 'disease', nega_samples)\n",
    "print('Disease, Negative:')\n",
    "display(diseases_nega.describe())\n",
    "print('Jaccard Distribution:', [round(i, 5) for i in get_jaccard_distribution(diseases_nega['jaccard_score'], partitions)])"
   ]
  },
  {
   "cell_type": "code",
   "execution_count": 73,
   "metadata": {
    "tags": []
   },
   "outputs": [
    {
     "name": "stdout",
     "output_type": "stream",
     "text": [
      "==========\n",
      "MRNA, Positive:\n"
     ]
    },
    {
     "data": {
      "text/html": [
       "<div>\n",
       "<style scoped>\n",
       "    .dataframe tbody tr th:only-of-type {\n",
       "        vertical-align: middle;\n",
       "    }\n",
       "\n",
       "    .dataframe tbody tr th {\n",
       "        vertical-align: top;\n",
       "    }\n",
       "\n",
       "    .dataframe thead th {\n",
       "        text-align: right;\n",
       "    }\n",
       "</style>\n",
       "<table border=\"1\" class=\"dataframe\">\n",
       "  <thead>\n",
       "    <tr style=\"text-align: right;\">\n",
       "      <th></th>\n",
       "      <th>intersection_num</th>\n",
       "      <th>jaccard_score</th>\n",
       "    </tr>\n",
       "  </thead>\n",
       "  <tbody>\n",
       "    <tr>\n",
       "      <th>count</th>\n",
       "      <td>57298.000000</td>\n",
       "      <td>57291.000000</td>\n",
       "    </tr>\n",
       "    <tr>\n",
       "      <th>mean</th>\n",
       "      <td>1.247443</td>\n",
       "      <td>0.002650</td>\n",
       "    </tr>\n",
       "    <tr>\n",
       "      <th>std</th>\n",
       "      <td>2.711876</td>\n",
       "      <td>0.003911</td>\n",
       "    </tr>\n",
       "    <tr>\n",
       "      <th>min</th>\n",
       "      <td>0.000000</td>\n",
       "      <td>0.000000</td>\n",
       "    </tr>\n",
       "    <tr>\n",
       "      <th>25%</th>\n",
       "      <td>0.000000</td>\n",
       "      <td>0.000000</td>\n",
       "    </tr>\n",
       "    <tr>\n",
       "      <th>50%</th>\n",
       "      <td>0.000000</td>\n",
       "      <td>0.000000</td>\n",
       "    </tr>\n",
       "    <tr>\n",
       "      <th>75%</th>\n",
       "      <td>1.000000</td>\n",
       "      <td>0.004587</td>\n",
       "    </tr>\n",
       "    <tr>\n",
       "      <th>max</th>\n",
       "      <td>99.000000</td>\n",
       "      <td>0.071429</td>\n",
       "    </tr>\n",
       "  </tbody>\n",
       "</table>\n",
       "</div>"
      ],
      "text/plain": [
       "       intersection_num  jaccard_score\n",
       "count      57298.000000   57291.000000\n",
       "mean           1.247443       0.002650\n",
       "std            2.711876       0.003911\n",
       "min            0.000000       0.000000\n",
       "25%            0.000000       0.000000\n",
       "50%            0.000000       0.000000\n",
       "75%            1.000000       0.004587\n",
       "max           99.000000       0.071429"
      ]
     },
     "metadata": {},
     "output_type": "display_data"
    },
    {
     "name": "stdout",
     "output_type": "stream",
     "text": [
      "Jaccard Distribution: [0.00012, 0.5566, 0.44328, 0.0, 0.0]\n",
      "==========\n",
      "MRNA, Negative:\n"
     ]
    },
    {
     "data": {
      "text/html": [
       "<div>\n",
       "<style scoped>\n",
       "    .dataframe tbody tr th:only-of-type {\n",
       "        vertical-align: middle;\n",
       "    }\n",
       "\n",
       "    .dataframe tbody tr th {\n",
       "        vertical-align: top;\n",
       "    }\n",
       "\n",
       "    .dataframe thead th {\n",
       "        text-align: right;\n",
       "    }\n",
       "</style>\n",
       "<table border=\"1\" class=\"dataframe\">\n",
       "  <thead>\n",
       "    <tr style=\"text-align: right;\">\n",
       "      <th></th>\n",
       "      <th>intersection_num</th>\n",
       "      <th>jaccard_score</th>\n",
       "    </tr>\n",
       "  </thead>\n",
       "  <tbody>\n",
       "    <tr>\n",
       "      <th>count</th>\n",
       "      <td>57298.000000</td>\n",
       "      <td>56545.000000</td>\n",
       "    </tr>\n",
       "    <tr>\n",
       "      <th>mean</th>\n",
       "      <td>0.137631</td>\n",
       "      <td>0.000554</td>\n",
       "    </tr>\n",
       "    <tr>\n",
       "      <th>std</th>\n",
       "      <td>0.798740</td>\n",
       "      <td>0.002399</td>\n",
       "    </tr>\n",
       "    <tr>\n",
       "      <th>min</th>\n",
       "      <td>0.000000</td>\n",
       "      <td>0.000000</td>\n",
       "    </tr>\n",
       "    <tr>\n",
       "      <th>25%</th>\n",
       "      <td>0.000000</td>\n",
       "      <td>0.000000</td>\n",
       "    </tr>\n",
       "    <tr>\n",
       "      <th>50%</th>\n",
       "      <td>0.000000</td>\n",
       "      <td>0.000000</td>\n",
       "    </tr>\n",
       "    <tr>\n",
       "      <th>75%</th>\n",
       "      <td>0.000000</td>\n",
       "      <td>0.000000</td>\n",
       "    </tr>\n",
       "    <tr>\n",
       "      <th>max</th>\n",
       "      <td>42.000000</td>\n",
       "      <td>0.055556</td>\n",
       "    </tr>\n",
       "  </tbody>\n",
       "</table>\n",
       "</div>"
      ],
      "text/plain": [
       "       intersection_num  jaccard_score\n",
       "count      57298.000000   56545.000000\n",
       "mean           0.137631       0.000554\n",
       "std            0.798740       0.002399\n",
       "min            0.000000       0.000000\n",
       "25%            0.000000       0.000000\n",
       "50%            0.000000       0.000000\n",
       "75%            0.000000       0.000000\n",
       "max           42.000000       0.055556"
      ]
     },
     "metadata": {},
     "output_type": "display_data"
    },
    {
     "name": "stdout",
     "output_type": "stream",
     "text": [
      "Jaccard Distribution: [0.01314, 0.91604, 0.07082, 0.0, 0.0]\n"
     ]
    }
   ],
   "source": [
    "print('==========')\n",
    "\n",
    "mrnas_posi = get_conclusion_df(G, 'mrna', posi_samples)\n",
    "print('MRNA, Positive:')\n",
    "display(mrnas_posi.describe())\n",
    "print('Jaccard Distribution:', [round(i, 5) for i in get_jaccard_distribution(mrnas_posi['jaccard_score'], partitions)])\n",
    "\n",
    "print('==========')\n",
    "\n",
    "mrnas_nega = get_conclusion_df(G, 'mrna', nega_samples)\n",
    "print('MRNA, Negative:')\n",
    "display(mrnas_nega.describe())\n",
    "print('Jaccard Distribution:', [round(i, 5) for i in get_jaccard_distribution(mrnas_nega['jaccard_score'], partitions)])"
   ]
  },
  {
   "cell_type": "code",
   "execution_count": 76,
   "metadata": {},
   "outputs": [
    {
     "name": "stdout",
     "output_type": "stream",
     "text": [
      "==========\n",
      "All, Positive:\n"
     ]
    },
    {
     "data": {
      "text/html": [
       "<div>\n",
       "<style scoped>\n",
       "    .dataframe tbody tr th:only-of-type {\n",
       "        vertical-align: middle;\n",
       "    }\n",
       "\n",
       "    .dataframe tbody tr th {\n",
       "        vertical-align: top;\n",
       "    }\n",
       "\n",
       "    .dataframe thead th {\n",
       "        text-align: right;\n",
       "    }\n",
       "</style>\n",
       "<table border=\"1\" class=\"dataframe\">\n",
       "  <thead>\n",
       "    <tr style=\"text-align: right;\">\n",
       "      <th></th>\n",
       "      <th>intersection_num</th>\n",
       "      <th>jaccard_score</th>\n",
       "    </tr>\n",
       "  </thead>\n",
       "  <tbody>\n",
       "    <tr>\n",
       "      <th>count</th>\n",
       "      <td>57298.000000</td>\n",
       "      <td>57298.000000</td>\n",
       "    </tr>\n",
       "    <tr>\n",
       "      <th>mean</th>\n",
       "      <td>3.913714</td>\n",
       "      <td>0.005145</td>\n",
       "    </tr>\n",
       "    <tr>\n",
       "      <th>std</th>\n",
       "      <td>6.196202</td>\n",
       "      <td>0.007347</td>\n",
       "    </tr>\n",
       "    <tr>\n",
       "      <th>min</th>\n",
       "      <td>0.000000</td>\n",
       "      <td>0.000000</td>\n",
       "    </tr>\n",
       "    <tr>\n",
       "      <th>25%</th>\n",
       "      <td>1.000000</td>\n",
       "      <td>0.001046</td>\n",
       "    </tr>\n",
       "    <tr>\n",
       "      <th>50%</th>\n",
       "      <td>2.000000</td>\n",
       "      <td>0.003157</td>\n",
       "    </tr>\n",
       "    <tr>\n",
       "      <th>75%</th>\n",
       "      <td>5.000000</td>\n",
       "      <td>0.006431</td>\n",
       "    </tr>\n",
       "    <tr>\n",
       "      <th>max</th>\n",
       "      <td>99.000000</td>\n",
       "      <td>0.135246</td>\n",
       "    </tr>\n",
       "  </tbody>\n",
       "</table>\n",
       "</div>"
      ],
      "text/plain": [
       "       intersection_num  jaccard_score\n",
       "count      57298.000000   57298.000000\n",
       "mean           3.913714       0.005145\n",
       "std            6.196202       0.007347\n",
       "min            0.000000       0.000000\n",
       "25%            1.000000       0.001046\n",
       "50%            2.000000       0.003157\n",
       "75%            5.000000       0.006431\n",
       "max           99.000000       0.135246"
      ]
     },
     "metadata": {},
     "output_type": "display_data"
    },
    {
     "name": "stdout",
     "output_type": "stream",
     "text": [
      "Jaccard Distribution: [0.0, 0.1995, 0.79973, 0.00077, 0.0]\n",
      "==========\n",
      "All, Negative:\n"
     ]
    },
    {
     "data": {
      "text/html": [
       "<div>\n",
       "<style scoped>\n",
       "    .dataframe tbody tr th:only-of-type {\n",
       "        vertical-align: middle;\n",
       "    }\n",
       "\n",
       "    .dataframe tbody tr th {\n",
       "        vertical-align: top;\n",
       "    }\n",
       "\n",
       "    .dataframe thead th {\n",
       "        text-align: right;\n",
       "    }\n",
       "</style>\n",
       "<table border=\"1\" class=\"dataframe\">\n",
       "  <thead>\n",
       "    <tr style=\"text-align: right;\">\n",
       "      <th></th>\n",
       "      <th>intersection_num</th>\n",
       "      <th>jaccard_score</th>\n",
       "    </tr>\n",
       "  </thead>\n",
       "  <tbody>\n",
       "    <tr>\n",
       "      <th>count</th>\n",
       "      <td>57298.000000</td>\n",
       "      <td>57298.000000</td>\n",
       "    </tr>\n",
       "    <tr>\n",
       "      <th>mean</th>\n",
       "      <td>0.178383</td>\n",
       "      <td>0.000608</td>\n",
       "    </tr>\n",
       "    <tr>\n",
       "      <th>std</th>\n",
       "      <td>0.963564</td>\n",
       "      <td>0.002415</td>\n",
       "    </tr>\n",
       "    <tr>\n",
       "      <th>min</th>\n",
       "      <td>0.000000</td>\n",
       "      <td>0.000000</td>\n",
       "    </tr>\n",
       "    <tr>\n",
       "      <th>25%</th>\n",
       "      <td>0.000000</td>\n",
       "      <td>0.000000</td>\n",
       "    </tr>\n",
       "    <tr>\n",
       "      <th>50%</th>\n",
       "      <td>0.000000</td>\n",
       "      <td>0.000000</td>\n",
       "    </tr>\n",
       "    <tr>\n",
       "      <th>75%</th>\n",
       "      <td>0.000000</td>\n",
       "      <td>0.000000</td>\n",
       "    </tr>\n",
       "    <tr>\n",
       "      <th>max</th>\n",
       "      <td>49.000000</td>\n",
       "      <td>0.068966</td>\n",
       "    </tr>\n",
       "  </tbody>\n",
       "</table>\n",
       "</div>"
      ],
      "text/plain": [
       "       intersection_num  jaccard_score\n",
       "count      57298.000000   57298.000000\n",
       "mean           0.178383       0.000608\n",
       "std            0.963564       0.002415\n",
       "min            0.000000       0.000000\n",
       "25%            0.000000       0.000000\n",
       "50%            0.000000       0.000000\n",
       "75%            0.000000       0.000000\n",
       "max           49.000000       0.068966"
      ]
     },
     "metadata": {},
     "output_type": "display_data"
    },
    {
     "name": "stdout",
     "output_type": "stream",
     "text": [
      "Jaccard Distribution: [0.0, 0.90734, 0.09266, 0.0, 0.0]\n"
     ]
    }
   ],
   "source": [
    "print('==========')\n",
    "\n",
    "all_posi = get_conclusion_df(G, 'all', posi_samples)\n",
    "print('All, Positive:')\n",
    "display(all_posi.describe())\n",
    "print('Jaccard Distribution:', [round(i, 5) for i in get_jaccard_distribution(all_posi['jaccard_score'], partitions)])\n",
    "\n",
    "print('==========')\n",
    "\n",
    "all_nega = get_conclusion_df(G, 'all', nega_samples)\n",
    "print('All, Negative:')\n",
    "display(all_nega.describe())\n",
    "print('Jaccard Distribution:', [round(i, 5) for i in get_jaccard_distribution(all_nega['jaccard_score'], partitions)])"
   ]
  },
  {
   "attachments": {},
   "cell_type": "markdown",
   "metadata": {
    "tags": []
   },
   "source": [
    "## SubGraph Size\n",
    "\n",
    "For miRNA-disease pairs with verified associations, the surrounding subgraphs are larger.  \n",
    "This part has not been fully exploited, maybe some subgraph-based link prediction methods can work well."
   ]
  },
  {
   "cell_type": "code",
   "execution_count": 35,
   "metadata": {},
   "outputs": [],
   "source": [
    "def get_khop_subgraph(G, k, mi_id, d_id):\n",
    "    \n",
    "    subgraph_nodes_before = set()\n",
    "    subgraph_nodes_after = {mi_id, d_id}\n",
    "    \n",
    "    for i in range(k):\n",
    "        new_nodes = subgraph_nodes_after - subgraph_nodes_before\n",
    "        subgraph_nodes_before = subgraph_nodes_after\n",
    "        for node in new_nodes:\n",
    "            subgraph_nodes_after = subgraph_nodes_after | {neighbor for neighbor in G.neighbors(node)}\n",
    "    \n",
    "    return len(subgraph_nodes_after)"
   ]
  },
  {
   "cell_type": "code",
   "execution_count": 36,
   "metadata": {},
   "outputs": [],
   "source": [
    "# A problem: it's single threading, without parallel computation\n",
    "def get_subgraph_conclusion_df(G, k, samples):\n",
    "    \n",
    "    subgraph_size = []\n",
    "    \n",
    "    for mirna, disease in samples:\n",
    "        num = get_khop_subgraph(G, k, mirna, disease)\n",
    "        subgraph_size.append(num)\n",
    "\n",
    "    return pd.DataFrame({\n",
    "        'subgraph_size': subgraph_size\n",
    "    }, index=samples)"
   ]
  },
  {
   "cell_type": "code",
   "execution_count": 37,
   "metadata": {},
   "outputs": [],
   "source": [
    "# parallel computating!\n",
    "def get_2hop_subgraph_size(adj, adj_2, node_list, samples):\n",
    "    \n",
    "    subgraph_size = []\n",
    "    \n",
    "    for mirna, disease in samples:\n",
    "        mi_idx = node_list.index(mirna)\n",
    "        d_idx = node_list.index(disease)\n",
    "        neighbor_list = (adj[mi_idx] > 0) | (adj[d_idx] > 0) | (adj_2[mi_idx] > 0) | (adj_2[d_idx] > 0)\n",
    "        \n",
    "        # No need to add mi_idx and d_idx, they are already included in adj_2\n",
    "        # adj_self = np.zeros(adj.shape[0])\n",
    "        # adj_self[mi_idx] = 1\n",
    "        # adj_self[d_idx] = 1\n",
    "        # neighbor_list = (adj[mi_idx] > 0) | (adj[d_idx] > 0) | (adj_2[mi_idx] > 0) | (adj_2[d_idx] > 0) | (adj_self > 0)\n",
    "        \n",
    "        subgraph_size.append(neighbor_list.sum())\n",
    "    \n",
    "    return subgraph_size"
   ]
  },
  {
   "cell_type": "code",
   "execution_count": 38,
   "metadata": {},
   "outputs": [],
   "source": [
    "def get_2hop_subgraph_size_df(G, posi_samples, nega_samples):\n",
    "    \n",
    "    node_list = list(G.nodes())\n",
    "    adj = np.mat(nx.to_numpy_array(G))\n",
    "    adj_2 = np.dot(adj, adj)\n",
    "    \n",
    "    return pd.DataFrame({\n",
    "        'subgraph_size_posi': get_2hop_subgraph_size(adj, adj_2, node_list, posi_samples)\n",
    "    }, index=posi_samples), pd.DataFrame({\n",
    "        'subgraph_size_nega': get_2hop_subgraph_size(adj, adj_2, node_list, nega_samples)\n",
    "    }, index=nega_samples)"
   ]
  },
  {
   "cell_type": "code",
   "execution_count": 39,
   "metadata": {},
   "outputs": [],
   "source": [
    "G, posi_samples, nega_samples = get_graph_nx(paths['graph_without_mid'], paths['train_val_test'])"
   ]
  },
  {
   "cell_type": "code",
   "execution_count": 40,
   "metadata": {},
   "outputs": [
    {
     "name": "stdout",
     "output_type": "stream",
     "text": [
      "1, Positive:\n"
     ]
    },
    {
     "data": {
      "text/html": [
       "<div>\n",
       "<style scoped>\n",
       "    .dataframe tbody tr th:only-of-type {\n",
       "        vertical-align: middle;\n",
       "    }\n",
       "\n",
       "    .dataframe tbody tr th {\n",
       "        vertical-align: top;\n",
       "    }\n",
       "\n",
       "    .dataframe thead th {\n",
       "        text-align: right;\n",
       "    }\n",
       "</style>\n",
       "<table border=\"1\" class=\"dataframe\">\n",
       "  <thead>\n",
       "    <tr style=\"text-align: right;\">\n",
       "      <th></th>\n",
       "      <th>subgraph_size</th>\n",
       "    </tr>\n",
       "  </thead>\n",
       "  <tbody>\n",
       "    <tr>\n",
       "      <th>count</th>\n",
       "      <td>57298.000000</td>\n",
       "    </tr>\n",
       "    <tr>\n",
       "      <th>mean</th>\n",
       "      <td>839.508866</td>\n",
       "    </tr>\n",
       "    <tr>\n",
       "      <th>std</th>\n",
       "      <td>609.505186</td>\n",
       "    </tr>\n",
       "    <tr>\n",
       "      <th>min</th>\n",
       "      <td>26.000000</td>\n",
       "    </tr>\n",
       "    <tr>\n",
       "      <th>25%</th>\n",
       "      <td>393.000000</td>\n",
       "    </tr>\n",
       "    <tr>\n",
       "      <th>50%</th>\n",
       "      <td>626.000000</td>\n",
       "    </tr>\n",
       "    <tr>\n",
       "      <th>75%</th>\n",
       "      <td>1130.000000</td>\n",
       "    </tr>\n",
       "    <tr>\n",
       "      <th>max</th>\n",
       "      <td>3361.000000</td>\n",
       "    </tr>\n",
       "  </tbody>\n",
       "</table>\n",
       "</div>"
      ],
      "text/plain": [
       "       subgraph_size\n",
       "count   57298.000000\n",
       "mean      839.508866\n",
       "std       609.505186\n",
       "min        26.000000\n",
       "25%       393.000000\n",
       "50%       626.000000\n",
       "75%      1130.000000\n",
       "max      3361.000000"
      ]
     },
     "metadata": {},
     "output_type": "display_data"
    },
    {
     "name": "stdout",
     "output_type": "stream",
     "text": [
      "1, Negative:\n"
     ]
    },
    {
     "data": {
      "text/html": [
       "<div>\n",
       "<style scoped>\n",
       "    .dataframe tbody tr th:only-of-type {\n",
       "        vertical-align: middle;\n",
       "    }\n",
       "\n",
       "    .dataframe tbody tr th {\n",
       "        vertical-align: top;\n",
       "    }\n",
       "\n",
       "    .dataframe thead th {\n",
       "        text-align: right;\n",
       "    }\n",
       "</style>\n",
       "<table border=\"1\" class=\"dataframe\">\n",
       "  <thead>\n",
       "    <tr style=\"text-align: right;\">\n",
       "      <th></th>\n",
       "      <th>subgraph_size</th>\n",
       "    </tr>\n",
       "  </thead>\n",
       "  <tbody>\n",
       "    <tr>\n",
       "      <th>count</th>\n",
       "      <td>57298.000000</td>\n",
       "    </tr>\n",
       "    <tr>\n",
       "      <th>mean</th>\n",
       "      <td>150.705539</td>\n",
       "    </tr>\n",
       "    <tr>\n",
       "      <th>std</th>\n",
       "      <td>148.575366</td>\n",
       "    </tr>\n",
       "    <tr>\n",
       "      <th>min</th>\n",
       "      <td>3.000000</td>\n",
       "    </tr>\n",
       "    <tr>\n",
       "      <th>25%</th>\n",
       "      <td>67.000000</td>\n",
       "    </tr>\n",
       "    <tr>\n",
       "      <th>50%</th>\n",
       "      <td>116.000000</td>\n",
       "    </tr>\n",
       "    <tr>\n",
       "      <th>75%</th>\n",
       "      <td>187.000000</td>\n",
       "    </tr>\n",
       "    <tr>\n",
       "      <th>max</th>\n",
       "      <td>2962.000000</td>\n",
       "    </tr>\n",
       "  </tbody>\n",
       "</table>\n",
       "</div>"
      ],
      "text/plain": [
       "       subgraph_size\n",
       "count   57298.000000\n",
       "mean      150.705539\n",
       "std       148.575366\n",
       "min         3.000000\n",
       "25%        67.000000\n",
       "50%       116.000000\n",
       "75%       187.000000\n",
       "max      2962.000000"
      ]
     },
     "metadata": {},
     "output_type": "display_data"
    }
   ],
   "source": [
    "subgraph_size_1_posi = get_subgraph_conclusion_df(G, 1, posi_samples)\n",
    "print('1, Positive:')\n",
    "display(subgraph_size_1_posi.describe())\n",
    "\n",
    "subgraph_size_1_nega = get_subgraph_conclusion_df(G, 1, nega_samples)\n",
    "print('1, Negative:')\n",
    "display(subgraph_size_1_nega.describe())"
   ]
  },
  {
   "cell_type": "code",
   "execution_count": null,
   "metadata": {
    "tags": []
   },
   "outputs": [],
   "source": [
    "# subgraph_size_2_posi = get_subgraph_conclusion_df(G, 2, posi_samples)\n",
    "subgraph_size_2_posi, subgraph_size_2_nega = get_2hop_subgraph_size_df(G, posi_samples, nega_samples)\n",
    "print('2, Positive:')\n",
    "display(subgraph_size_2_posi.describe())\n",
    "print('2, Negative:')\n",
    "display(subgraph_size_2_nega.describe())"
   ]
  },
  {
   "attachments": {},
   "cell_type": "markdown",
   "metadata": {},
   "source": [
    "## Density, Degree, Homophily  \n",
    "\n",
    "The graph is extremely sparse.  \n",
    "MiRNAs tend to be heterophile, but diseases and mRNAs tend to be homophile.  \n",
    "Currently, we use GNN (HGT) layers to treat all meta-relations, and it is doing well so far.  \n",
    "Maybe the model can be improved by designing customized learning module for each meta-relation, for example, learnable multi-hop meta-paths but not uniformed two hops (layers)."
   ]
  },
  {
   "cell_type": "code",
   "execution_count": 42,
   "metadata": {},
   "outputs": [],
   "source": [
    "def get_density(G):\n",
    "    return nx.density(G)"
   ]
  },
  {
   "cell_type": "code",
   "execution_count": 43,
   "metadata": {},
   "outputs": [],
   "source": [
    "def get_neighbor_type_num(G, node_id):\n",
    "    \n",
    "    neighbor_mirna_num = 0\n",
    "    neighbor_mrna_num = 0\n",
    "    neighbor_disease_num = 0\n",
    "    \n",
    "    for neighbor in G.neighbors(node_id):\n",
    "        neighbor_node_type = get_node_type(neighbor)\n",
    "        \n",
    "        if neighbor_node_type == 'mirna':\n",
    "            neighbor_mirna_num = neighbor_mirna_num + 1\n",
    "        elif neighbor_node_type == 'mrna':\n",
    "            neighbor_mrna_num = neighbor_mrna_num + 1\n",
    "        elif neighbor_node_type == 'disease':\n",
    "            neighbor_disease_num = neighbor_disease_num + 1\n",
    "            \n",
    "    return neighbor_mirna_num, neighbor_mrna_num, neighbor_disease_num"
   ]
  },
  {
   "cell_type": "code",
   "execution_count": 44,
   "metadata": {},
   "outputs": [],
   "source": [
    "def get_neighbor_num_df(G):\n",
    "    \n",
    "    node_list = list(G.nodes)\n",
    "    neighbor_mirna = []\n",
    "    neighbor_mrna = []\n",
    "    neighbor_disease = []\n",
    "    \n",
    "    for node_id in node_list:\n",
    "        neighbor_mirna_num, neighbor_mrna_num, neighbor_disease_num = get_neighbor_type_num(G, node_id)\n",
    "        neighbor_mirna.append(neighbor_mirna_num)\n",
    "        neighbor_mrna.append(neighbor_mrna_num)\n",
    "        neighbor_disease.append(neighbor_disease_num)\n",
    "    \n",
    "    return pd.DataFrame({\n",
    "        'neighbor_mirna': neighbor_mirna,\n",
    "        'neighbor_mrna': neighbor_mrna,\n",
    "        'neighbor_disease': neighbor_disease\n",
    "    }, index=node_list)"
   ]
  },
  {
   "cell_type": "code",
   "execution_count": 45,
   "metadata": {},
   "outputs": [],
   "source": [
    "def get_degree_and_homophily(df, column_name):\n",
    "    \n",
    "    df['degree'] = df.sum(axis=1).values\n",
    "    df['homophily'] = (df[column_name] / df['degree']).values\n",
    "    \n",
    "    return df"
   ]
  },
  {
   "cell_type": "code",
   "execution_count": 46,
   "metadata": {},
   "outputs": [],
   "source": [
    "G, posi_samples, nega_samples = get_graph_nx(paths['graph_without_mid'], paths['train_val_test'])"
   ]
  },
  {
   "cell_type": "code",
   "execution_count": 47,
   "metadata": {},
   "outputs": [
    {
     "data": {
      "text/plain": [
       "0.004612581390587416"
      ]
     },
     "execution_count": 47,
     "metadata": {},
     "output_type": "execute_result"
    }
   ],
   "source": [
    "get_density(G)"
   ]
  },
  {
   "cell_type": "code",
   "execution_count": 48,
   "metadata": {},
   "outputs": [],
   "source": [
    "neighbor_num_df = get_neighbor_num_df(G)"
   ]
  },
  {
   "cell_type": "code",
   "execution_count": 49,
   "metadata": {},
   "outputs": [
    {
     "data": {
      "text/html": [
       "<div>\n",
       "<style scoped>\n",
       "    .dataframe tbody tr th:only-of-type {\n",
       "        vertical-align: middle;\n",
       "    }\n",
       "\n",
       "    .dataframe tbody tr th {\n",
       "        vertical-align: top;\n",
       "    }\n",
       "\n",
       "    .dataframe thead th {\n",
       "        text-align: right;\n",
       "    }\n",
       "</style>\n",
       "<table border=\"1\" class=\"dataframe\">\n",
       "  <thead>\n",
       "    <tr style=\"text-align: right;\">\n",
       "      <th></th>\n",
       "      <th>neighbor_mirna</th>\n",
       "      <th>neighbor_mrna</th>\n",
       "      <th>neighbor_disease</th>\n",
       "      <th>degree</th>\n",
       "      <th>homophily</th>\n",
       "    </tr>\n",
       "  </thead>\n",
       "  <tbody>\n",
       "    <tr>\n",
       "      <th>MI0000060</th>\n",
       "      <td>11</td>\n",
       "      <td>105</td>\n",
       "      <td>197</td>\n",
       "      <td>313</td>\n",
       "      <td>0.035144</td>\n",
       "    </tr>\n",
       "    <tr>\n",
       "      <th>MI0000067</th>\n",
       "      <td>11</td>\n",
       "      <td>77</td>\n",
       "      <td>148</td>\n",
       "      <td>236</td>\n",
       "      <td>0.046610</td>\n",
       "    </tr>\n",
       "    <tr>\n",
       "      <th>MI0000100</th>\n",
       "      <td>11</td>\n",
       "      <td>86</td>\n",
       "      <td>131</td>\n",
       "      <td>228</td>\n",
       "      <td>0.048246</td>\n",
       "    </tr>\n",
       "    <tr>\n",
       "      <th>MI0000434</th>\n",
       "      <td>11</td>\n",
       "      <td>85</td>\n",
       "      <td>142</td>\n",
       "      <td>238</td>\n",
       "      <td>0.046218</td>\n",
       "    </tr>\n",
       "    <tr>\n",
       "      <th>MI0000068</th>\n",
       "      <td>11</td>\n",
       "      <td>81</td>\n",
       "      <td>146</td>\n",
       "      <td>238</td>\n",
       "      <td>0.046218</td>\n",
       "    </tr>\n",
       "    <tr>\n",
       "      <th>...</th>\n",
       "      <td>...</td>\n",
       "      <td>...</td>\n",
       "      <td>...</td>\n",
       "      <td>...</td>\n",
       "      <td>...</td>\n",
       "    </tr>\n",
       "    <tr>\n",
       "      <th>MI0039734</th>\n",
       "      <td>0</td>\n",
       "      <td>0</td>\n",
       "      <td>0</td>\n",
       "      <td>0</td>\n",
       "      <td>NaN</td>\n",
       "    </tr>\n",
       "    <tr>\n",
       "      <th>MI0039735</th>\n",
       "      <td>0</td>\n",
       "      <td>0</td>\n",
       "      <td>0</td>\n",
       "      <td>0</td>\n",
       "      <td>NaN</td>\n",
       "    </tr>\n",
       "    <tr>\n",
       "      <th>MI0039739</th>\n",
       "      <td>0</td>\n",
       "      <td>0</td>\n",
       "      <td>0</td>\n",
       "      <td>0</td>\n",
       "      <td>NaN</td>\n",
       "    </tr>\n",
       "    <tr>\n",
       "      <th>MI0039740</th>\n",
       "      <td>0</td>\n",
       "      <td>0</td>\n",
       "      <td>4</td>\n",
       "      <td>4</td>\n",
       "      <td>0.000000</td>\n",
       "    </tr>\n",
       "    <tr>\n",
       "      <th>MI0041071</th>\n",
       "      <td>0</td>\n",
       "      <td>0</td>\n",
       "      <td>0</td>\n",
       "      <td>0</td>\n",
       "      <td>NaN</td>\n",
       "    </tr>\n",
       "  </tbody>\n",
       "</table>\n",
       "<p>1917 rows × 5 columns</p>\n",
       "</div>"
      ],
      "text/plain": [
       "           neighbor_mirna  neighbor_mrna  neighbor_disease  degree  homophily\n",
       "MI0000060              11            105               197     313   0.035144\n",
       "MI0000067              11             77               148     236   0.046610\n",
       "MI0000100              11             86               131     228   0.048246\n",
       "MI0000434              11             85               142     238   0.046218\n",
       "MI0000068              11             81               146     238   0.046218\n",
       "...                   ...            ...               ...     ...        ...\n",
       "MI0039734               0              0                 0       0        NaN\n",
       "MI0039735               0              0                 0       0        NaN\n",
       "MI0039739               0              0                 0       0        NaN\n",
       "MI0039740               0              0                 4       4   0.000000\n",
       "MI0041071               0              0                 0       0        NaN\n",
       "\n",
       "[1917 rows x 5 columns]"
      ]
     },
     "metadata": {},
     "output_type": "display_data"
    },
    {
     "data": {
      "text/html": [
       "<div>\n",
       "<style scoped>\n",
       "    .dataframe tbody tr th:only-of-type {\n",
       "        vertical-align: middle;\n",
       "    }\n",
       "\n",
       "    .dataframe tbody tr th {\n",
       "        vertical-align: top;\n",
       "    }\n",
       "\n",
       "    .dataframe thead th {\n",
       "        text-align: right;\n",
       "    }\n",
       "</style>\n",
       "<table border=\"1\" class=\"dataframe\">\n",
       "  <thead>\n",
       "    <tr style=\"text-align: right;\">\n",
       "      <th></th>\n",
       "      <th>neighbor_mirna</th>\n",
       "      <th>neighbor_mrna</th>\n",
       "      <th>neighbor_disease</th>\n",
       "      <th>degree</th>\n",
       "      <th>homophily</th>\n",
       "    </tr>\n",
       "  </thead>\n",
       "  <tbody>\n",
       "    <tr>\n",
       "      <th>count</th>\n",
       "      <td>1917.000000</td>\n",
       "      <td>1917.000000</td>\n",
       "      <td>1917.000000</td>\n",
       "      <td>1917.000000</td>\n",
       "      <td>1875.000000</td>\n",
       "    </tr>\n",
       "    <tr>\n",
       "      <th>mean</th>\n",
       "      <td>4.694836</td>\n",
       "      <td>75.449139</td>\n",
       "      <td>29.889411</td>\n",
       "      <td>110.033385</td>\n",
       "      <td>0.039517</td>\n",
       "    </tr>\n",
       "    <tr>\n",
       "      <th>std</th>\n",
       "      <td>15.158220</td>\n",
       "      <td>68.122894</td>\n",
       "      <td>46.552878</td>\n",
       "      <td>83.262620</td>\n",
       "      <td>0.124598</td>\n",
       "    </tr>\n",
       "    <tr>\n",
       "      <th>min</th>\n",
       "      <td>0.000000</td>\n",
       "      <td>0.000000</td>\n",
       "      <td>0.000000</td>\n",
       "      <td>0.000000</td>\n",
       "      <td>0.000000</td>\n",
       "    </tr>\n",
       "    <tr>\n",
       "      <th>25%</th>\n",
       "      <td>0.000000</td>\n",
       "      <td>32.000000</td>\n",
       "      <td>5.000000</td>\n",
       "      <td>51.000000</td>\n",
       "      <td>0.000000</td>\n",
       "    </tr>\n",
       "    <tr>\n",
       "      <th>50%</th>\n",
       "      <td>0.000000</td>\n",
       "      <td>58.000000</td>\n",
       "      <td>11.000000</td>\n",
       "      <td>92.000000</td>\n",
       "      <td>0.000000</td>\n",
       "    </tr>\n",
       "    <tr>\n",
       "      <th>75%</th>\n",
       "      <td>1.000000</td>\n",
       "      <td>97.000000</td>\n",
       "      <td>30.000000</td>\n",
       "      <td>146.000000</td>\n",
       "      <td>0.009901</td>\n",
       "    </tr>\n",
       "    <tr>\n",
       "      <th>max</th>\n",
       "      <td>73.000000</td>\n",
       "      <td>737.000000</td>\n",
       "      <td>433.000000</td>\n",
       "      <td>775.000000</td>\n",
       "      <td>0.890244</td>\n",
       "    </tr>\n",
       "  </tbody>\n",
       "</table>\n",
       "</div>"
      ],
      "text/plain": [
       "       neighbor_mirna  neighbor_mrna  neighbor_disease       degree  \\\n",
       "count     1917.000000    1917.000000       1917.000000  1917.000000   \n",
       "mean         4.694836      75.449139         29.889411   110.033385   \n",
       "std         15.158220      68.122894         46.552878    83.262620   \n",
       "min          0.000000       0.000000          0.000000     0.000000   \n",
       "25%          0.000000      32.000000          5.000000    51.000000   \n",
       "50%          0.000000      58.000000         11.000000    92.000000   \n",
       "75%          1.000000      97.000000         30.000000   146.000000   \n",
       "max         73.000000     737.000000        433.000000   775.000000   \n",
       "\n",
       "         homophily  \n",
       "count  1875.000000  \n",
       "mean      0.039517  \n",
       "std       0.124598  \n",
       "min       0.000000  \n",
       "25%       0.000000  \n",
       "50%       0.000000  \n",
       "75%       0.009901  \n",
       "max       0.890244  "
      ]
     },
     "metadata": {},
     "output_type": "display_data"
    }
   ],
   "source": [
    "neighbor_mirna_df = neighbor_num_df[neighbor_num_df.index.str.contains('MI')].copy()\n",
    "neighbor_mirna_df = get_degree_and_homophily(neighbor_mirna_df, 'neighbor_mirna')\n",
    "\n",
    "display(neighbor_mirna_df)\n",
    "display(neighbor_mirna_df.describe())"
   ]
  },
  {
   "cell_type": "code",
   "execution_count": 50,
   "metadata": {},
   "outputs": [
    {
     "data": {
      "text/html": [
       "<div>\n",
       "<style scoped>\n",
       "    .dataframe tbody tr th:only-of-type {\n",
       "        vertical-align: middle;\n",
       "    }\n",
       "\n",
       "    .dataframe tbody tr th {\n",
       "        vertical-align: top;\n",
       "    }\n",
       "\n",
       "    .dataframe thead th {\n",
       "        text-align: right;\n",
       "    }\n",
       "</style>\n",
       "<table border=\"1\" class=\"dataframe\">\n",
       "  <thead>\n",
       "    <tr style=\"text-align: right;\">\n",
       "      <th></th>\n",
       "      <th>neighbor_mirna</th>\n",
       "      <th>neighbor_mrna</th>\n",
       "      <th>neighbor_disease</th>\n",
       "      <th>degree</th>\n",
       "      <th>homophily</th>\n",
       "    </tr>\n",
       "  </thead>\n",
       "  <tbody>\n",
       "    <tr>\n",
       "      <th>9774</th>\n",
       "      <td>44</td>\n",
       "      <td>6</td>\n",
       "      <td>1</td>\n",
       "      <td>51</td>\n",
       "      <td>0.117647</td>\n",
       "    </tr>\n",
       "    <tr>\n",
       "      <th>5926</th>\n",
       "      <td>30</td>\n",
       "      <td>14</td>\n",
       "      <td>3</td>\n",
       "      <td>47</td>\n",
       "      <td>0.297872</td>\n",
       "    </tr>\n",
       "    <tr>\n",
       "      <th>966</th>\n",
       "      <td>17</td>\n",
       "      <td>453</td>\n",
       "      <td>19</td>\n",
       "      <td>489</td>\n",
       "      <td>0.926380</td>\n",
       "    </tr>\n",
       "    <tr>\n",
       "      <th>2218</th>\n",
       "      <td>11</td>\n",
       "      <td>0</td>\n",
       "      <td>67</td>\n",
       "      <td>78</td>\n",
       "      <td>0.000000</td>\n",
       "    </tr>\n",
       "    <tr>\n",
       "      <th>573</th>\n",
       "      <td>11</td>\n",
       "      <td>5</td>\n",
       "      <td>7</td>\n",
       "      <td>23</td>\n",
       "      <td>0.217391</td>\n",
       "    </tr>\n",
       "    <tr>\n",
       "      <th>...</th>\n",
       "      <td>...</td>\n",
       "      <td>...</td>\n",
       "      <td>...</td>\n",
       "      <td>...</td>\n",
       "      <td>...</td>\n",
       "    </tr>\n",
       "    <tr>\n",
       "      <th>124220</th>\n",
       "      <td>0</td>\n",
       "      <td>0</td>\n",
       "      <td>0</td>\n",
       "      <td>0</td>\n",
       "      <td>NaN</td>\n",
       "    </tr>\n",
       "    <tr>\n",
       "      <th>201181</th>\n",
       "      <td>0</td>\n",
       "      <td>0</td>\n",
       "      <td>0</td>\n",
       "      <td>0</td>\n",
       "      <td>NaN</td>\n",
       "    </tr>\n",
       "    <tr>\n",
       "      <th>118568799</th>\n",
       "      <td>0</td>\n",
       "      <td>0</td>\n",
       "      <td>0</td>\n",
       "      <td>0</td>\n",
       "      <td>NaN</td>\n",
       "    </tr>\n",
       "    <tr>\n",
       "      <th>57829</th>\n",
       "      <td>0</td>\n",
       "      <td>3</td>\n",
       "      <td>0</td>\n",
       "      <td>3</td>\n",
       "      <td>1.000000</td>\n",
       "    </tr>\n",
       "    <tr>\n",
       "      <th>131368</th>\n",
       "      <td>0</td>\n",
       "      <td>0</td>\n",
       "      <td>0</td>\n",
       "      <td>0</td>\n",
       "      <td>NaN</td>\n",
       "    </tr>\n",
       "  </tbody>\n",
       "</table>\n",
       "<p>19229 rows × 5 columns</p>\n",
       "</div>"
      ],
      "text/plain": [
       "           neighbor_mirna  neighbor_mrna  neighbor_disease  degree  homophily\n",
       "9774                   44              6                 1      51   0.117647\n",
       "5926                   30             14                 3      47   0.297872\n",
       "966                    17            453                19     489   0.926380\n",
       "2218                   11              0                67      78   0.000000\n",
       "573                    11              5                 7      23   0.217391\n",
       "...                   ...            ...               ...     ...        ...\n",
       "124220                  0              0                 0       0        NaN\n",
       "201181                  0              0                 0       0        NaN\n",
       "118568799               0              0                 0       0        NaN\n",
       "57829                   0              3                 0       3   1.000000\n",
       "131368                  0              0                 0       0        NaN\n",
       "\n",
       "[19229 rows x 5 columns]"
      ]
     },
     "metadata": {},
     "output_type": "display_data"
    },
    {
     "data": {
      "text/html": [
       "<div>\n",
       "<style scoped>\n",
       "    .dataframe tbody tr th:only-of-type {\n",
       "        vertical-align: middle;\n",
       "    }\n",
       "\n",
       "    .dataframe tbody tr th {\n",
       "        vertical-align: top;\n",
       "    }\n",
       "\n",
       "    .dataframe thead th {\n",
       "        text-align: right;\n",
       "    }\n",
       "</style>\n",
       "<table border=\"1\" class=\"dataframe\">\n",
       "  <thead>\n",
       "    <tr style=\"text-align: right;\">\n",
       "      <th></th>\n",
       "      <th>neighbor_mirna</th>\n",
       "      <th>neighbor_mrna</th>\n",
       "      <th>neighbor_disease</th>\n",
       "      <th>degree</th>\n",
       "      <th>homophily</th>\n",
       "    </tr>\n",
       "  </thead>\n",
       "  <tbody>\n",
       "    <tr>\n",
       "      <th>count</th>\n",
       "      <td>19229.000000</td>\n",
       "      <td>19229.000000</td>\n",
       "      <td>19229.000000</td>\n",
       "      <td>19229.000000</td>\n",
       "      <td>18371.000000</td>\n",
       "    </tr>\n",
       "    <tr>\n",
       "      <th>mean</th>\n",
       "      <td>7.521764</td>\n",
       "      <td>126.846326</td>\n",
       "      <td>7.010505</td>\n",
       "      <td>141.378595</td>\n",
       "      <td>0.576622</td>\n",
       "    </tr>\n",
       "    <tr>\n",
       "      <th>std</th>\n",
       "      <td>9.022814</td>\n",
       "      <td>241.028391</td>\n",
       "      <td>16.112838</td>\n",
       "      <td>243.060713</td>\n",
       "      <td>0.400188</td>\n",
       "    </tr>\n",
       "    <tr>\n",
       "      <th>min</th>\n",
       "      <td>0.000000</td>\n",
       "      <td>0.000000</td>\n",
       "      <td>0.000000</td>\n",
       "      <td>0.000000</td>\n",
       "      <td>0.000000</td>\n",
       "    </tr>\n",
       "    <tr>\n",
       "      <th>25%</th>\n",
       "      <td>1.000000</td>\n",
       "      <td>0.000000</td>\n",
       "      <td>0.000000</td>\n",
       "      <td>13.000000</td>\n",
       "      <td>0.114520</td>\n",
       "    </tr>\n",
       "    <tr>\n",
       "      <th>50%</th>\n",
       "      <td>5.000000</td>\n",
       "      <td>17.000000</td>\n",
       "      <td>1.000000</td>\n",
       "      <td>34.000000</td>\n",
       "      <td>0.722222</td>\n",
       "    </tr>\n",
       "    <tr>\n",
       "      <th>75%</th>\n",
       "      <td>11.000000</td>\n",
       "      <td>108.000000</td>\n",
       "      <td>6.000000</td>\n",
       "      <td>132.000000</td>\n",
       "      <td>0.963176</td>\n",
       "    </tr>\n",
       "    <tr>\n",
       "      <th>max</th>\n",
       "      <td>121.000000</td>\n",
       "      <td>1641.000000</td>\n",
       "      <td>388.000000</td>\n",
       "      <td>1677.000000</td>\n",
       "      <td>1.000000</td>\n",
       "    </tr>\n",
       "  </tbody>\n",
       "</table>\n",
       "</div>"
      ],
      "text/plain": [
       "       neighbor_mirna  neighbor_mrna  neighbor_disease        degree  \\\n",
       "count    19229.000000   19229.000000      19229.000000  19229.000000   \n",
       "mean         7.521764     126.846326          7.010505    141.378595   \n",
       "std          9.022814     241.028391         16.112838    243.060713   \n",
       "min          0.000000       0.000000          0.000000      0.000000   \n",
       "25%          1.000000       0.000000          0.000000     13.000000   \n",
       "50%          5.000000      17.000000          1.000000     34.000000   \n",
       "75%         11.000000     108.000000          6.000000    132.000000   \n",
       "max        121.000000    1641.000000        388.000000   1677.000000   \n",
       "\n",
       "          homophily  \n",
       "count  18371.000000  \n",
       "mean       0.576622  \n",
       "std        0.400188  \n",
       "min        0.000000  \n",
       "25%        0.114520  \n",
       "50%        0.722222  \n",
       "75%        0.963176  \n",
       "max        1.000000  "
      ]
     },
     "metadata": {},
     "output_type": "display_data"
    }
   ],
   "source": [
    "neighbor_mrna_df = neighbor_num_df[neighbor_num_df.index.str.isdigit()].copy()\n",
    "neighbor_mrna_df = get_degree_and_homophily(neighbor_mrna_df, 'neighbor_mrna')\n",
    "\n",
    "display(neighbor_mrna_df)\n",
    "display(neighbor_mrna_df.describe())"
   ]
  },
  {
   "cell_type": "code",
   "execution_count": 51,
   "metadata": {},
   "outputs": [
    {
     "data": {
      "text/html": [
       "<div>\n",
       "<style scoped>\n",
       "    .dataframe tbody tr th:only-of-type {\n",
       "        vertical-align: middle;\n",
       "    }\n",
       "\n",
       "    .dataframe tbody tr th {\n",
       "        vertical-align: top;\n",
       "    }\n",
       "\n",
       "    .dataframe thead th {\n",
       "        text-align: right;\n",
       "    }\n",
       "</style>\n",
       "<table border=\"1\" class=\"dataframe\">\n",
       "  <thead>\n",
       "    <tr style=\"text-align: right;\">\n",
       "      <th></th>\n",
       "      <th>neighbor_mirna</th>\n",
       "      <th>neighbor_mrna</th>\n",
       "      <th>neighbor_disease</th>\n",
       "      <th>degree</th>\n",
       "      <th>homophily</th>\n",
       "    </tr>\n",
       "  </thead>\n",
       "  <tbody>\n",
       "    <tr>\n",
       "      <th>D000006</th>\n",
       "      <td>0</td>\n",
       "      <td>0</td>\n",
       "      <td>1</td>\n",
       "      <td>1</td>\n",
       "      <td>1.000000</td>\n",
       "    </tr>\n",
       "    <tr>\n",
       "      <th>D015746</th>\n",
       "      <td>0</td>\n",
       "      <td>223</td>\n",
       "      <td>3</td>\n",
       "      <td>226</td>\n",
       "      <td>0.013274</td>\n",
       "    </tr>\n",
       "    <tr>\n",
       "      <th>D000007</th>\n",
       "      <td>0</td>\n",
       "      <td>0</td>\n",
       "      <td>4</td>\n",
       "      <td>4</td>\n",
       "      <td>1.000000</td>\n",
       "    </tr>\n",
       "    <tr>\n",
       "      <th>D014947</th>\n",
       "      <td>26</td>\n",
       "      <td>0</td>\n",
       "      <td>53</td>\n",
       "      <td>79</td>\n",
       "      <td>0.670886</td>\n",
       "    </tr>\n",
       "    <tr>\n",
       "      <th>D006549</th>\n",
       "      <td>0</td>\n",
       "      <td>0</td>\n",
       "      <td>2</td>\n",
       "      <td>2</td>\n",
       "      <td>1.000000</td>\n",
       "    </tr>\n",
       "    <tr>\n",
       "      <th>...</th>\n",
       "      <td>...</td>\n",
       "      <td>...</td>\n",
       "      <td>...</td>\n",
       "      <td>...</td>\n",
       "      <td>...</td>\n",
       "    </tr>\n",
       "    <tr>\n",
       "      <th>D064146</th>\n",
       "      <td>0</td>\n",
       "      <td>0</td>\n",
       "      <td>1</td>\n",
       "      <td>1</td>\n",
       "      <td>1.000000</td>\n",
       "    </tr>\n",
       "    <tr>\n",
       "      <th>D064807</th>\n",
       "      <td>0</td>\n",
       "      <td>0</td>\n",
       "      <td>1</td>\n",
       "      <td>1</td>\n",
       "      <td>1.000000</td>\n",
       "    </tr>\n",
       "    <tr>\n",
       "      <th>D065606</th>\n",
       "      <td>0</td>\n",
       "      <td>0</td>\n",
       "      <td>1</td>\n",
       "      <td>1</td>\n",
       "      <td>1.000000</td>\n",
       "    </tr>\n",
       "    <tr>\n",
       "      <th>D065706</th>\n",
       "      <td>0</td>\n",
       "      <td>166</td>\n",
       "      <td>1</td>\n",
       "      <td>167</td>\n",
       "      <td>0.005988</td>\n",
       "    </tr>\n",
       "    <tr>\n",
       "      <th>D065707</th>\n",
       "      <td>0</td>\n",
       "      <td>8</td>\n",
       "      <td>1</td>\n",
       "      <td>9</td>\n",
       "      <td>0.111111</td>\n",
       "    </tr>\n",
       "  </tbody>\n",
       "</table>\n",
       "<p>4933 rows × 5 columns</p>\n",
       "</div>"
      ],
      "text/plain": [
       "         neighbor_mirna  neighbor_mrna  neighbor_disease  degree  homophily\n",
       "D000006               0              0                 1       1   1.000000\n",
       "D015746               0            223                 3     226   0.013274\n",
       "D000007               0              0                 4       4   1.000000\n",
       "D014947              26              0                53      79   0.670886\n",
       "D006549               0              0                 2       2   1.000000\n",
       "...                 ...            ...               ...     ...        ...\n",
       "D064146               0              0                 1       1   1.000000\n",
       "D064807               0              0                 1       1   1.000000\n",
       "D065606               0              0                 1       1   1.000000\n",
       "D065706               0            166                 1     167   0.005988\n",
       "D065707               0              8                 1       9   0.111111\n",
       "\n",
       "[4933 rows x 5 columns]"
      ]
     },
     "metadata": {},
     "output_type": "display_data"
    },
    {
     "data": {
      "text/html": [
       "<div>\n",
       "<style scoped>\n",
       "    .dataframe tbody tr th:only-of-type {\n",
       "        vertical-align: middle;\n",
       "    }\n",
       "\n",
       "    .dataframe tbody tr th {\n",
       "        vertical-align: top;\n",
       "    }\n",
       "\n",
       "    .dataframe thead th {\n",
       "        text-align: right;\n",
       "    }\n",
       "</style>\n",
       "<table border=\"1\" class=\"dataframe\">\n",
       "  <thead>\n",
       "    <tr style=\"text-align: right;\">\n",
       "      <th></th>\n",
       "      <th>neighbor_mirna</th>\n",
       "      <th>neighbor_mrna</th>\n",
       "      <th>neighbor_disease</th>\n",
       "      <th>degree</th>\n",
       "      <th>homophily</th>\n",
       "    </tr>\n",
       "  </thead>\n",
       "  <tbody>\n",
       "    <tr>\n",
       "      <th>count</th>\n",
       "      <td>4933.000000</td>\n",
       "      <td>4933.000000</td>\n",
       "      <td>4933.000000</td>\n",
       "      <td>4933.000000</td>\n",
       "      <td>4933.000000</td>\n",
       "    </tr>\n",
       "    <tr>\n",
       "      <th>mean</th>\n",
       "      <td>11.615244</td>\n",
       "      <td>27.327184</td>\n",
       "      <td>3.112913</td>\n",
       "      <td>42.055342</td>\n",
       "      <td>0.546628</td>\n",
       "    </tr>\n",
       "    <tr>\n",
       "      <th>std</th>\n",
       "      <td>68.004538</td>\n",
       "      <td>96.026080</td>\n",
       "      <td>4.028540</td>\n",
       "      <td>138.091607</td>\n",
       "      <td>0.409855</td>\n",
       "    </tr>\n",
       "    <tr>\n",
       "      <th>min</th>\n",
       "      <td>0.000000</td>\n",
       "      <td>0.000000</td>\n",
       "      <td>1.000000</td>\n",
       "      <td>1.000000</td>\n",
       "      <td>0.000917</td>\n",
       "    </tr>\n",
       "    <tr>\n",
       "      <th>25%</th>\n",
       "      <td>0.000000</td>\n",
       "      <td>0.000000</td>\n",
       "      <td>1.000000</td>\n",
       "      <td>2.000000</td>\n",
       "      <td>0.111111</td>\n",
       "    </tr>\n",
       "    <tr>\n",
       "      <th>50%</th>\n",
       "      <td>0.000000</td>\n",
       "      <td>1.000000</td>\n",
       "      <td>2.000000</td>\n",
       "      <td>5.000000</td>\n",
       "      <td>0.500000</td>\n",
       "    </tr>\n",
       "    <tr>\n",
       "      <th>75%</th>\n",
       "      <td>0.000000</td>\n",
       "      <td>14.000000</td>\n",
       "      <td>3.000000</td>\n",
       "      <td>23.000000</td>\n",
       "      <td>1.000000</td>\n",
       "    </tr>\n",
       "    <tr>\n",
       "      <th>max</th>\n",
       "      <td>1846.000000</td>\n",
       "      <td>2364.000000</td>\n",
       "      <td>66.000000</td>\n",
       "      <td>2766.000000</td>\n",
       "      <td>1.000000</td>\n",
       "    </tr>\n",
       "  </tbody>\n",
       "</table>\n",
       "</div>"
      ],
      "text/plain": [
       "       neighbor_mirna  neighbor_mrna  neighbor_disease       degree  \\\n",
       "count     4933.000000    4933.000000       4933.000000  4933.000000   \n",
       "mean        11.615244      27.327184          3.112913    42.055342   \n",
       "std         68.004538      96.026080          4.028540   138.091607   \n",
       "min          0.000000       0.000000          1.000000     1.000000   \n",
       "25%          0.000000       0.000000          1.000000     2.000000   \n",
       "50%          0.000000       1.000000          2.000000     5.000000   \n",
       "75%          0.000000      14.000000          3.000000    23.000000   \n",
       "max       1846.000000    2364.000000         66.000000  2766.000000   \n",
       "\n",
       "         homophily  \n",
       "count  4933.000000  \n",
       "mean      0.546628  \n",
       "std       0.409855  \n",
       "min       0.000917  \n",
       "25%       0.111111  \n",
       "50%       0.500000  \n",
       "75%       1.000000  \n",
       "max       1.000000  "
      ]
     },
     "metadata": {},
     "output_type": "display_data"
    }
   ],
   "source": [
    "neighbor_disease_df = neighbor_num_df[neighbor_num_df.index.str.contains('D')].copy()\n",
    "neighbor_disease_df = get_degree_and_homophily(neighbor_disease_df, 'neighbor_disease')\n",
    "\n",
    "display(neighbor_disease_df)\n",
    "display(neighbor_disease_df.describe())"
   ]
  },
  {
   "cell_type": "code",
   "execution_count": null,
   "metadata": {},
   "outputs": [],
   "source": []
  }
 ],
 "metadata": {
  "kernelspec": {
   "display_name": "base",
   "language": "python",
   "name": "python3"
  },
  "language_info": {
   "codemirror_mode": {
    "name": "ipython",
    "version": 3
   },
   "file_extension": ".py",
   "mimetype": "text/x-python",
   "name": "python",
   "nbconvert_exporter": "python",
   "pygments_lexer": "ipython3",
   "version": "3.8.8"
  },
  "vscode": {
   "interpreter": {
    "hash": "40d3a090f54c6569ab1632332b64b2c03c39dcf918b08424e98f38b5ae0af88f"
   }
  }
 },
 "nbformat": 4,
 "nbformat_minor": 4
}
